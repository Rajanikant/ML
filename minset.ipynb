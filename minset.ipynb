{
  "nbformat": 4,
  "nbformat_minor": 0,
  "metadata": {
    "colab": {
      "name": "minset.ipynb",
      "provenance": [],
      "collapsed_sections": [],
      "include_colab_link": true
    },
    "kernelspec": {
      "name": "python3",
      "display_name": "Python 3"
    }
  },
  "cells": [
    {
      "cell_type": "markdown",
      "metadata": {
        "id": "view-in-github",
        "colab_type": "text"
      },
      "source": [
        "<a href=\"https://colab.research.google.com/github/Rajanikant/ML/blob/master/minset.ipynb\" target=\"_parent\"><img src=\"https://colab.research.google.com/assets/colab-badge.svg\" alt=\"Open In Colab\"/></a>"
      ]
    },
    {
      "cell_type": "code",
      "metadata": {
        "id": "pdFYtja8qpKl",
        "colab_type": "code",
        "colab": {}
      },
      "source": [
        "import numpy as np\n",
        "import pandas as pd\n",
        "import h5py"
      ],
      "execution_count": 0,
      "outputs": []
    },
    {
      "cell_type": "code",
      "metadata": {
        "id": "5SUEAD_TsT8c",
        "colab_type": "code",
        "colab": {}
      },
      "source": [
        "from google.colab import drive\n",
        "\n",
        "drive.mount('/content/gdrive')\n",
        "#import io\n",
        "#f = h5py.File('https://drive.google.com/open?id=1MPpbNT3gSanUJwd3KPdszz_pfcWSLopR', 'r')\n"
      ],
      "execution_count": 0,
      "outputs": []
    },
    {
      "cell_type": "code",
      "metadata": {
        "id": "b6ejl02Fr8Ic",
        "colab_type": "code",
        "colab": {}
      },
      "source": [
        "root_path = 'gdrive/My Drive/ColabNotebooks/SVHN_single_grey1.h5'\n",
        "f = h5py.File(root_path, 'r')"
      ],
      "execution_count": 0,
      "outputs": []
    },
    {
      "cell_type": "code",
      "metadata": {
        "id": "e0rzLrS5MEnk",
        "colab_type": "code",
        "colab": {}
      },
      "source": [
        "list(f.keys())"
      ],
      "execution_count": 0,
      "outputs": []
    },
    {
      "cell_type": "code",
      "metadata": {
        "id": "5_M8HGPwMP1F",
        "colab_type": "code",
        "colab": {}
      },
      "source": [
        "from sklearn.neighbors import KNeighborsClassifier\n",
        "from sklearn.metrics import confusion_matrix\n",
        "import matplotlib.pyplot as plt"
      ],
      "execution_count": 0,
      "outputs": []
    },
    {
      "cell_type": "code",
      "metadata": {
        "id": "ldUb2Wi4MSt_",
        "colab_type": "code",
        "outputId": "90ac50d4-f00f-4df3-995a-45f39315df83",
        "colab": {
          "base_uri": "https://localhost:8080/",
          "height": 1000
        }
      },
      "source": [
        "for i in range(0, 20,2):\n",
        "    plt.imshow(f['X_train'][i])    # show first number in the dataset\n",
        "    plt.show()\n",
        "    print('Label: ', f['y_train'][i])"
      ],
      "execution_count": 0,
      "outputs": [
        {
          "output_type": "display_data",
          "data": {
            "image/png": "[encoded data removed]",
            "text/plain": [
              "<Figure size 432x288 with 1 Axes>"
            ]
          },
          "metadata": {
            "tags": []
          }
        },
        {
          "output_type": "stream",
          "text": [
            "Label:  2\n"
          ],
          "name": "stdout"
        },
        {
          "output_type": "display_data",
          "data": {
            "image/png": "[encoded data removed]",
            "text/plain": [
              "<Figure size 432x288 with 1 Axes>"
            ]
          },
          "metadata": {
            "tags": []
          }
        },
        {
          "output_type": "stream",
          "text": [
            "Label:  7\n"
          ],
          "name": "stdout"
        },
        {
          "output_type": "display_data",
          "data": {
            "image/png": "[encoded data removed]",
            "text/plain": [
              "<Figure size 432x288 with 1 Axes>"
            ]
          },
          "metadata": {
            "tags": []
          }
        },
        {
          "output_type": "stream",
          "text": [
            "Label:  4\n"
          ],
          "name": "stdout"
        },
        {
          "output_type": "display_data",
          "data": {
            "image/png": "[encoded data removed]",
            "text/plain": [
              "<Figure size 432x288 with 1 Axes>"
            ]
          },
          "metadata": {
            "tags": []
          }
        },
        {
          "output_type": "stream",
          "text": [
            "Label:  3\n"
          ],
          "name": "stdout"
        },
        {
          "output_type": "display_data",
          "data": {
            "image/png": "[encoded data removed]",
            "text/plain": [
              "<Figure size 432x288 with 1 Axes>"
            ]
          },
          "metadata": {
            "tags": []
          }
        },
        {
          "output_type": "stream",
          "text": [
            "Label:  7\n"
          ],
          "name": "stdout"
        },
        {
          "output_type": "display_data",
          "data": {
            "image/png": "[encoded data removed]",
            "text/plain": [
              "<Figure size 432x288 with 1 Axes>"
            ]
          },
          "metadata": {
            "tags": []
          }
        },
        {
          "output_type": "stream",
          "text": [
            "Label:  1\n"
          ],
          "name": "stdout"
        },
        {
          "output_type": "display_data",
          "data": {
            "image/png": "[encoded data removed]",
            "text/plain": [
              "<Figure size 432x288 with 1 Axes>"
            ]
          },
          "metadata": {
            "tags": []
          }
        },
        {
          "output_type": "stream",
          "text": [
            "Label:  1\n"
          ],
          "name": "stdout"
        },
        {
          "output_type": "display_data",
          "data": {
            "image/png": "[encoded data removed]",
            "text/plain": [
              "<Figure size 432x288 with 1 Axes>"
            ]
          },
          "metadata": {
            "tags": []
          }
        },
        {
          "output_type": "stream",
          "text": [
            "Label:  1\n"
          ],
          "name": "stdout"
        },
        {
          "output_type": "display_data",
          "data": {
            "image/png": "[encoded data removed]",
            "text/plain": [
              "<Figure size 432x288 with 1 Axes>"
            ]
          },
          "metadata": {
            "tags": []
          }
        },
        {
          "output_type": "stream",
          "text": [
            "Label:  0\n"
          ],
          "name": "stdout"
        },
        {
          "output_type": "display_data",
          "data": {
            "image/png": "[encoded data removed]",
            "text/plain": [
              "<Figure size 432x288 with 1 Axes>"
            ]
          },
          "metadata": {
            "tags": []
          }
        },
        {
          "output_type": "stream",
          "text": [
            "Label:  8\n"
          ],
          "name": "stdout"
        }
      ]
    },
    {
      "cell_type": "code",
      "metadata": {
        "id": "8ouepnGKMWiF",
        "colab_type": "code",
        "colab": {}
      },
      "source": [
        "X_train = np.array(f['X_train']).reshape((f['X_train'].shape[0], -1))\n",
        "X_test = np.array(f['X_test']).reshape((f['X_test'].shape[0], -1))\n",
        "y_train = np.array(f['y_train']).reshape((f['y_train'].shape[0], -1))\n",
        "y_test = np.array(f['y_test']).reshape((f['y_test'].shape[0], -1))\n",
        "X_val = np.array(f['X_val']).reshape((f['X_val'].shape[0], -1))\n",
        "y_val = np.array(f['y_val']).reshape((f['y_val'].shape[0], -1))"
      ],
      "execution_count": 0,
      "outputs": []
    },
    {
      "cell_type": "code",
      "metadata": {
        "id": "lu1e9Zkftixh",
        "colab_type": "code",
        "outputId": "f89bf60c-9f4f-42b3-bbea-d707e0c77e55",
        "colab": {
          "base_uri": "https://localhost:8080/",
          "height": 50
        }
      },
      "source": [
        "# # normalize inputs from 0-255 to 0-1\n",
        "train_features = X_train / 255.0\n",
        "test_features = X_test / 255.0\n",
        "val_feature = X_val/255.0\n",
        "\n",
        "print(y_train.shape)\n",
        "print (y_test.shape)"
      ],
      "execution_count": 0,
      "outputs": [
        {
          "output_type": "stream",
          "text": [
            "(42000, 1)\n",
            "(18000, 1)\n"
          ],
          "name": "stdout"
        }
      ]
    },
    {
      "cell_type": "code",
      "metadata": {
        "id": "rJF9BUxfMa9i",
        "colab_type": "code",
        "colab": {}
      },
      "source": [
        "X_train = pd.DataFrame(X_train)\n",
        "X_test = pd.DataFrame(X_test)\n",
        "y_train = pd.DataFrame(y_train)\n",
        "y_test = pd.DataFrame(y_test)\n",
        "X_val = pd.DataFrame(X_val)\n",
        "y_val = pd.DataFrame(y_val)"
      ],
      "execution_count": 0,
      "outputs": []
    },
    {
      "cell_type": "code",
      "metadata": {
        "id": "mGWtX1lwMdrW",
        "colab_type": "code",
        "outputId": "652225c5-0dfd-4410-e4fc-312dd0974cd3",
        "colab": {
          "base_uri": "https://localhost:8080/",
          "height": 101
        }
      },
      "source": [
        "X_train.info()"
      ],
      "execution_count": 0,
      "outputs": [
        {
          "output_type": "stream",
          "text": [
            "<class 'pandas.core.frame.DataFrame'>\n",
            "RangeIndex: 42000 entries, 0 to 41999\n",
            "Columns: 1024 entries, 0 to 1023\n",
            "dtypes: float32(1024)\n",
            "memory usage: 164.1 MB\n"
          ],
          "name": "stdout"
        }
      ]
    },
    {
      "cell_type": "code",
      "metadata": {
        "id": "ix96M8a2MgE8",
        "colab_type": "code",
        "colab": {}
      },
      "source": [
        "kVals = range(1, 30, 2)\n",
        "accuracies = []\n",
        "import warnings; \n",
        "warnings.simplefilter('ignore')"
      ],
      "execution_count": 0,
      "outputs": []
    },
    {
      "cell_type": "code",
      "metadata": {
        "id": "cTTQ3MKIt0VR",
        "colab_type": "code",
        "outputId": "4aeff0a0-3fda-421c-9337-664b44abe2b7",
        "colab": {
          "base_uri": "https://localhost:8080/",
          "height": 333
        }
      },
      "source": [
        "X_train.describe()"
      ],
      "execution_count": 0,
      "outputs": [
        {
          "output_type": "execute_result",
          "data": {
            "text/html": [
              "<div>\n",
              "<style scoped>\n",
              "    .dataframe tbody tr th:only-of-type {\n",
              "        vertical-align: middle;\n",
              "    }\n",
              "\n",
              "    .dataframe tbody tr th {\n",
              "        vertical-align: top;\n",
              "    }\n",
              "\n",
              "    .dataframe thead th {\n",
              "        text-align: right;\n",
              "    }\n",
              "</style>\n",
              "<table border=\"1\" class=\"dataframe\">\n",
              "  <thead>\n",
              "    <tr style=\"text-align: right;\">\n",
              "      <th></th>\n",
              "      <th>0</th>\n",
              "      <th>1</th>\n",
              "      <th>2</th>\n",
              "      <th>3</th>\n",
              "      <th>4</th>\n",
              "      <th>5</th>\n",
              "      <th>6</th>\n",
              "      <th>7</th>\n",
              "      <th>8</th>\n",
              "      <th>9</th>\n",
              "      <th>10</th>\n",
              "      <th>11</th>\n",
              "      <th>12</th>\n",
              "      <th>13</th>\n",
              "      <th>14</th>\n",
              "      <th>15</th>\n",
              "      <th>16</th>\n",
              "      <th>17</th>\n",
              "      <th>18</th>\n",
              "      <th>19</th>\n",
              "      <th>20</th>\n",
              "      <th>21</th>\n",
              "      <th>22</th>\n",
              "      <th>23</th>\n",
              "      <th>24</th>\n",
              "      <th>25</th>\n",
              "      <th>26</th>\n",
              "      <th>27</th>\n",
              "      <th>28</th>\n",
              "      <th>29</th>\n",
              "      <th>30</th>\n",
              "      <th>31</th>\n",
              "      <th>32</th>\n",
              "      <th>33</th>\n",
              "      <th>34</th>\n",
              "      <th>35</th>\n",
              "      <th>36</th>\n",
              "      <th>37</th>\n",
              "      <th>38</th>\n",
              "      <th>39</th>\n",
              "      <th>...</th>\n",
              "      <th>984</th>\n",
              "      <th>985</th>\n",
              "      <th>986</th>\n",
              "      <th>987</th>\n",
              "      <th>988</th>\n",
              "      <th>989</th>\n",
              "      <th>990</th>\n",
              "      <th>991</th>\n",
              "      <th>992</th>\n",
              "      <th>993</th>\n",
              "      <th>994</th>\n",
              "      <th>995</th>\n",
              "      <th>996</th>\n",
              "      <th>997</th>\n",
              "      <th>998</th>\n",
              "      <th>999</th>\n",
              "      <th>1000</th>\n",
              "      <th>1001</th>\n",
              "      <th>1002</th>\n",
              "      <th>1003</th>\n",
              "      <th>1004</th>\n",
              "      <th>1005</th>\n",
              "      <th>1006</th>\n",
              "      <th>1007</th>\n",
              "      <th>1008</th>\n",
              "      <th>1009</th>\n",
              "      <th>1010</th>\n",
              "      <th>1011</th>\n",
              "      <th>1012</th>\n",
              "      <th>1013</th>\n",
              "      <th>1014</th>\n",
              "      <th>1015</th>\n",
              "      <th>1016</th>\n",
              "      <th>1017</th>\n",
              "      <th>1018</th>\n",
              "      <th>1019</th>\n",
              "      <th>1020</th>\n",
              "      <th>1021</th>\n",
              "      <th>1022</th>\n",
              "      <th>1023</th>\n",
              "    </tr>\n",
              "  </thead>\n",
              "  <tbody>\n",
              "    <tr>\n",
              "      <th>count</th>\n",
              "      <td>42000.000000</td>\n",
              "      <td>42000.000000</td>\n",
              "      <td>42000.000000</td>\n",
              "      <td>42000.000000</td>\n",
              "      <td>42000.000000</td>\n",
              "      <td>42000.000000</td>\n",
              "      <td>42000.000000</td>\n",
              "      <td>42000.000000</td>\n",
              "      <td>42000.000000</td>\n",
              "      <td>42000.000000</td>\n",
              "      <td>42000.000000</td>\n",
              "      <td>42000.000000</td>\n",
              "      <td>42000.000000</td>\n",
              "      <td>42000.000000</td>\n",
              "      <td>42000.000000</td>\n",
              "      <td>42000.000000</td>\n",
              "      <td>42000.000000</td>\n",
              "      <td>42000.000000</td>\n",
              "      <td>42000.000000</td>\n",
              "      <td>42000.000000</td>\n",
              "      <td>42000.000000</td>\n",
              "      <td>42000.000000</td>\n",
              "      <td>42000.000000</td>\n",
              "      <td>42000.000000</td>\n",
              "      <td>42000.000000</td>\n",
              "      <td>42000.000000</td>\n",
              "      <td>42000.000000</td>\n",
              "      <td>42000.000000</td>\n",
              "      <td>42000.000000</td>\n",
              "      <td>42000.000000</td>\n",
              "      <td>42000.000000</td>\n",
              "      <td>42000.000000</td>\n",
              "      <td>42000.000000</td>\n",
              "      <td>42000.000000</td>\n",
              "      <td>42000.000000</td>\n",
              "      <td>42000.000000</td>\n",
              "      <td>42000.000000</td>\n",
              "      <td>42000.000000</td>\n",
              "      <td>42000.000000</td>\n",
              "      <td>42000.000000</td>\n",
              "      <td>...</td>\n",
              "      <td>42000.000000</td>\n",
              "      <td>42000.000000</td>\n",
              "      <td>42000.000000</td>\n",
              "      <td>42000.000000</td>\n",
              "      <td>42000.000000</td>\n",
              "      <td>42000.000000</td>\n",
              "      <td>42000.000000</td>\n",
              "      <td>42000.000000</td>\n",
              "      <td>42000.000000</td>\n",
              "      <td>42000.000000</td>\n",
              "      <td>42000.000000</td>\n",
              "      <td>42000.000000</td>\n",
              "      <td>42000.000000</td>\n",
              "      <td>42000.000000</td>\n",
              "      <td>42000.000000</td>\n",
              "      <td>42000.000000</td>\n",
              "      <td>42000.000000</td>\n",
              "      <td>42000.000000</td>\n",
              "      <td>42000.000000</td>\n",
              "      <td>42000.000000</td>\n",
              "      <td>42000.000000</td>\n",
              "      <td>42000.000000</td>\n",
              "      <td>42000.000000</td>\n",
              "      <td>42000.000000</td>\n",
              "      <td>42000.000000</td>\n",
              "      <td>42000.000000</td>\n",
              "      <td>42000.000000</td>\n",
              "      <td>42000.000000</td>\n",
              "      <td>42000.000000</td>\n",
              "      <td>42000.000000</td>\n",
              "      <td>42000.000000</td>\n",
              "      <td>42000.000000</td>\n",
              "      <td>42000.000000</td>\n",
              "      <td>42000.000000</td>\n",
              "      <td>42000.000000</td>\n",
              "      <td>42000.000000</td>\n",
              "      <td>42000.000000</td>\n",
              "      <td>42000.000000</td>\n",
              "      <td>42000.000000</td>\n",
              "      <td>42000.000000</td>\n",
              "    </tr>\n",
              "    <tr>\n",
              "      <th>mean</th>\n",
              "      <td>114.507393</td>\n",
              "      <td>114.593391</td>\n",
              "      <td>114.711784</td>\n",
              "      <td>114.802467</td>\n",
              "      <td>114.889511</td>\n",
              "      <td>114.981987</td>\n",
              "      <td>115.060867</td>\n",
              "      <td>115.160599</td>\n",
              "      <td>115.260262</td>\n",
              "      <td>115.388618</td>\n",
              "      <td>115.541763</td>\n",
              "      <td>115.691254</td>\n",
              "      <td>115.800308</td>\n",
              "      <td>115.799324</td>\n",
              "      <td>115.714890</td>\n",
              "      <td>115.636307</td>\n",
              "      <td>115.607368</td>\n",
              "      <td>115.643906</td>\n",
              "      <td>115.709068</td>\n",
              "      <td>115.718605</td>\n",
              "      <td>115.652718</td>\n",
              "      <td>115.494835</td>\n",
              "      <td>115.245537</td>\n",
              "      <td>114.963837</td>\n",
              "      <td>114.759735</td>\n",
              "      <td>114.570724</td>\n",
              "      <td>114.401535</td>\n",
              "      <td>114.244026</td>\n",
              "      <td>114.176201</td>\n",
              "      <td>114.117203</td>\n",
              "      <td>114.024475</td>\n",
              "      <td>113.984001</td>\n",
              "      <td>114.020164</td>\n",
              "      <td>114.097282</td>\n",
              "      <td>114.167809</td>\n",
              "      <td>114.209846</td>\n",
              "      <td>114.231949</td>\n",
              "      <td>114.237892</td>\n",
              "      <td>114.225143</td>\n",
              "      <td>114.236961</td>\n",
              "      <td>...</td>\n",
              "      <td>112.930573</td>\n",
              "      <td>113.240402</td>\n",
              "      <td>113.472015</td>\n",
              "      <td>113.607468</td>\n",
              "      <td>113.713135</td>\n",
              "      <td>113.780334</td>\n",
              "      <td>113.870140</td>\n",
              "      <td>113.993782</td>\n",
              "      <td>112.836334</td>\n",
              "      <td>112.795715</td>\n",
              "      <td>112.785713</td>\n",
              "      <td>112.770271</td>\n",
              "      <td>112.728989</td>\n",
              "      <td>112.736748</td>\n",
              "      <td>112.849655</td>\n",
              "      <td>112.979294</td>\n",
              "      <td>112.929634</td>\n",
              "      <td>112.692810</td>\n",
              "      <td>112.312675</td>\n",
              "      <td>111.836418</td>\n",
              "      <td>111.353645</td>\n",
              "      <td>110.903191</td>\n",
              "      <td>110.602890</td>\n",
              "      <td>110.460442</td>\n",
              "      <td>110.542336</td>\n",
              "      <td>110.838730</td>\n",
              "      <td>111.299454</td>\n",
              "      <td>111.874596</td>\n",
              "      <td>112.470200</td>\n",
              "      <td>112.977226</td>\n",
              "      <td>113.340187</td>\n",
              "      <td>113.548271</td>\n",
              "      <td>113.688759</td>\n",
              "      <td>113.823586</td>\n",
              "      <td>113.911583</td>\n",
              "      <td>113.983261</td>\n",
              "      <td>114.032356</td>\n",
              "      <td>114.070068</td>\n",
              "      <td>114.184059</td>\n",
              "      <td>114.324036</td>\n",
              "    </tr>\n",
              "    <tr>\n",
              "      <th>std</th>\n",
              "      <td>51.137077</td>\n",
              "      <td>51.118355</td>\n",
              "      <td>51.219452</td>\n",
              "      <td>51.331837</td>\n",
              "      <td>51.524326</td>\n",
              "      <td>51.781086</td>\n",
              "      <td>52.061234</td>\n",
              "      <td>52.344265</td>\n",
              "      <td>52.568077</td>\n",
              "      <td>52.669868</td>\n",
              "      <td>52.556377</td>\n",
              "      <td>52.187321</td>\n",
              "      <td>51.586376</td>\n",
              "      <td>50.924419</td>\n",
              "      <td>50.349098</td>\n",
              "      <td>49.957954</td>\n",
              "      <td>49.786613</td>\n",
              "      <td>49.914223</td>\n",
              "      <td>50.329086</td>\n",
              "      <td>50.949432</td>\n",
              "      <td>51.594406</td>\n",
              "      <td>52.100098</td>\n",
              "      <td>52.405926</td>\n",
              "      <td>52.498909</td>\n",
              "      <td>52.358929</td>\n",
              "      <td>52.089462</td>\n",
              "      <td>51.789978</td>\n",
              "      <td>51.499718</td>\n",
              "      <td>51.221546</td>\n",
              "      <td>51.019585</td>\n",
              "      <td>50.885166</td>\n",
              "      <td>50.975941</td>\n",
              "      <td>50.583443</td>\n",
              "      <td>50.571846</td>\n",
              "      <td>50.723652</td>\n",
              "      <td>50.919930</td>\n",
              "      <td>51.215660</td>\n",
              "      <td>51.569126</td>\n",
              "      <td>51.972164</td>\n",
              "      <td>52.330841</td>\n",
              "      <td>...</td>\n",
              "      <td>52.498493</td>\n",
              "      <td>52.104748</td>\n",
              "      <td>51.532295</td>\n",
              "      <td>50.967960</td>\n",
              "      <td>50.523788</td>\n",
              "      <td>50.213406</td>\n",
              "      <td>50.022919</td>\n",
              "      <td>50.168324</td>\n",
              "      <td>50.206505</td>\n",
              "      <td>50.074249</td>\n",
              "      <td>50.244610</td>\n",
              "      <td>50.523476</td>\n",
              "      <td>50.888012</td>\n",
              "      <td>51.307297</td>\n",
              "      <td>51.762409</td>\n",
              "      <td>52.194733</td>\n",
              "      <td>52.379372</td>\n",
              "      <td>52.169167</td>\n",
              "      <td>51.538033</td>\n",
              "      <td>50.568249</td>\n",
              "      <td>49.430431</td>\n",
              "      <td>48.424313</td>\n",
              "      <td>47.686729</td>\n",
              "      <td>47.326363</td>\n",
              "      <td>47.404701</td>\n",
              "      <td>47.874939</td>\n",
              "      <td>48.721142</td>\n",
              "      <td>49.827621</td>\n",
              "      <td>51.031265</td>\n",
              "      <td>51.993778</td>\n",
              "      <td>52.565327</td>\n",
              "      <td>52.722675</td>\n",
              "      <td>52.567211</td>\n",
              "      <td>52.220608</td>\n",
              "      <td>51.732533</td>\n",
              "      <td>51.274834</td>\n",
              "      <td>50.891979</td>\n",
              "      <td>50.617260</td>\n",
              "      <td>50.452549</td>\n",
              "      <td>50.549885</td>\n",
              "    </tr>\n",
              "    <tr>\n",
              "      <th>min</th>\n",
              "      <td>4.130600</td>\n",
              "      <td>3.967300</td>\n",
              "      <td>4.771500</td>\n",
              "      <td>4.070500</td>\n",
              "      <td>3.081400</td>\n",
              "      <td>3.092200</td>\n",
              "      <td>3.361600</td>\n",
              "      <td>0.000000</td>\n",
              "      <td>1.938000</td>\n",
              "      <td>2.236900</td>\n",
              "      <td>1.982800</td>\n",
              "      <td>5.113500</td>\n",
              "      <td>2.991800</td>\n",
              "      <td>1.195600</td>\n",
              "      <td>3.081400</td>\n",
              "      <td>4.270700</td>\n",
              "      <td>2.156900</td>\n",
              "      <td>0.228000</td>\n",
              "      <td>3.883900</td>\n",
              "      <td>2.683800</td>\n",
              "      <td>4.172000</td>\n",
              "      <td>3.769900</td>\n",
              "      <td>2.656000</td>\n",
              "      <td>2.428000</td>\n",
              "      <td>2.428000</td>\n",
              "      <td>2.542000</td>\n",
              "      <td>2.292500</td>\n",
              "      <td>2.391200</td>\n",
              "      <td>2.391200</td>\n",
              "      <td>1.793400</td>\n",
              "      <td>3.771600</td>\n",
              "      <td>3.226000</td>\n",
              "      <td>4.195300</td>\n",
              "      <td>4.081300</td>\n",
              "      <td>4.771500</td>\n",
              "      <td>4.070500</td>\n",
              "      <td>2.782500</td>\n",
              "      <td>2.494400</td>\n",
              "      <td>3.209000</td>\n",
              "      <td>0.587000</td>\n",
              "      <td>...</td>\n",
              "      <td>0.228000</td>\n",
              "      <td>0.228000</td>\n",
              "      <td>3.113700</td>\n",
              "      <td>3.672900</td>\n",
              "      <td>2.428000</td>\n",
              "      <td>2.939600</td>\n",
              "      <td>2.989000</td>\n",
              "      <td>4.269000</td>\n",
              "      <td>3.227700</td>\n",
              "      <td>1.482000</td>\n",
              "      <td>3.059800</td>\n",
              "      <td>1.472900</td>\n",
              "      <td>2.885700</td>\n",
              "      <td>3.876000</td>\n",
              "      <td>4.688200</td>\n",
              "      <td>3.847000</td>\n",
              "      <td>3.287800</td>\n",
              "      <td>0.298900</td>\n",
              "      <td>3.306000</td>\n",
              "      <td>4.210600</td>\n",
              "      <td>2.806900</td>\n",
              "      <td>4.554300</td>\n",
              "      <td>3.554400</td>\n",
              "      <td>4.911600</td>\n",
              "      <td>4.916200</td>\n",
              "      <td>4.916200</td>\n",
              "      <td>4.651300</td>\n",
              "      <td>3.585000</td>\n",
              "      <td>4.698900</td>\n",
              "      <td>2.591400</td>\n",
              "      <td>3.990000</td>\n",
              "      <td>3.401800</td>\n",
              "      <td>0.000000</td>\n",
              "      <td>0.114000</td>\n",
              "      <td>3.534000</td>\n",
              "      <td>5.324600</td>\n",
              "      <td>2.428000</td>\n",
              "      <td>2.939600</td>\n",
              "      <td>4.167500</td>\n",
              "      <td>4.383000</td>\n",
              "    </tr>\n",
              "    <tr>\n",
              "      <th>25%</th>\n",
              "      <td>74.937826</td>\n",
              "      <td>74.851625</td>\n",
              "      <td>74.927952</td>\n",
              "      <td>74.809378</td>\n",
              "      <td>74.763653</td>\n",
              "      <td>74.525652</td>\n",
              "      <td>74.013248</td>\n",
              "      <td>73.874575</td>\n",
              "      <td>73.313627</td>\n",
              "      <td>73.198673</td>\n",
              "      <td>73.355549</td>\n",
              "      <td>74.067924</td>\n",
              "      <td>75.071377</td>\n",
              "      <td>75.937098</td>\n",
              "      <td>76.443377</td>\n",
              "      <td>76.754427</td>\n",
              "      <td>76.918051</td>\n",
              "      <td>76.925278</td>\n",
              "      <td>76.509449</td>\n",
              "      <td>75.846924</td>\n",
              "      <td>74.966499</td>\n",
              "      <td>73.885727</td>\n",
              "      <td>73.457027</td>\n",
              "      <td>73.107550</td>\n",
              "      <td>73.183374</td>\n",
              "      <td>73.635826</td>\n",
              "      <td>73.745903</td>\n",
              "      <td>73.909773</td>\n",
              "      <td>74.147352</td>\n",
              "      <td>74.716528</td>\n",
              "      <td>74.842497</td>\n",
              "      <td>74.752649</td>\n",
              "      <td>74.971249</td>\n",
              "      <td>75.006100</td>\n",
              "      <td>74.952002</td>\n",
              "      <td>74.562748</td>\n",
              "      <td>74.207401</td>\n",
              "      <td>73.780899</td>\n",
              "      <td>73.104603</td>\n",
              "      <td>72.614674</td>\n",
              "      <td>...</td>\n",
              "      <td>70.374002</td>\n",
              "      <td>71.388174</td>\n",
              "      <td>72.546776</td>\n",
              "      <td>73.642025</td>\n",
              "      <td>74.678373</td>\n",
              "      <td>75.052671</td>\n",
              "      <td>75.548252</td>\n",
              "      <td>75.637426</td>\n",
              "      <td>73.948400</td>\n",
              "      <td>73.920975</td>\n",
              "      <td>73.654522</td>\n",
              "      <td>73.145302</td>\n",
              "      <td>72.911926</td>\n",
              "      <td>72.129227</td>\n",
              "      <td>71.629951</td>\n",
              "      <td>70.980450</td>\n",
              "      <td>70.654978</td>\n",
              "      <td>70.432575</td>\n",
              "      <td>70.834249</td>\n",
              "      <td>71.749252</td>\n",
              "      <td>72.853399</td>\n",
              "      <td>73.762651</td>\n",
              "      <td>73.989197</td>\n",
              "      <td>74.371723</td>\n",
              "      <td>74.319824</td>\n",
              "      <td>74.071951</td>\n",
              "      <td>73.637976</td>\n",
              "      <td>72.753998</td>\n",
              "      <td>71.664398</td>\n",
              "      <td>70.938627</td>\n",
              "      <td>70.608202</td>\n",
              "      <td>70.740000</td>\n",
              "      <td>71.198927</td>\n",
              "      <td>71.908276</td>\n",
              "      <td>72.821098</td>\n",
              "      <td>73.590174</td>\n",
              "      <td>74.518150</td>\n",
              "      <td>74.817322</td>\n",
              "      <td>75.110773</td>\n",
              "      <td>75.143078</td>\n",
              "    </tr>\n",
              "    <tr>\n",
              "      <th>50%</th>\n",
              "      <td>111.418900</td>\n",
              "      <td>111.726151</td>\n",
              "      <td>111.857250</td>\n",
              "      <td>111.981750</td>\n",
              "      <td>112.149902</td>\n",
              "      <td>112.596550</td>\n",
              "      <td>112.893101</td>\n",
              "      <td>113.081848</td>\n",
              "      <td>113.258953</td>\n",
              "      <td>113.560402</td>\n",
              "      <td>113.622799</td>\n",
              "      <td>113.742298</td>\n",
              "      <td>113.153751</td>\n",
              "      <td>112.871750</td>\n",
              "      <td>112.565102</td>\n",
              "      <td>112.199799</td>\n",
              "      <td>112.153500</td>\n",
              "      <td>112.308647</td>\n",
              "      <td>112.843750</td>\n",
              "      <td>112.917801</td>\n",
              "      <td>113.118847</td>\n",
              "      <td>113.262051</td>\n",
              "      <td>113.049698</td>\n",
              "      <td>112.765850</td>\n",
              "      <td>112.454201</td>\n",
              "      <td>112.154449</td>\n",
              "      <td>111.759102</td>\n",
              "      <td>111.663799</td>\n",
              "      <td>111.352051</td>\n",
              "      <td>111.090702</td>\n",
              "      <td>111.038250</td>\n",
              "      <td>110.906303</td>\n",
              "      <td>110.640652</td>\n",
              "      <td>110.736504</td>\n",
              "      <td>110.813152</td>\n",
              "      <td>111.142853</td>\n",
              "      <td>111.238552</td>\n",
              "      <td>111.690804</td>\n",
              "      <td>111.962700</td>\n",
              "      <td>112.113602</td>\n",
              "      <td>...</td>\n",
              "      <td>111.169350</td>\n",
              "      <td>111.703999</td>\n",
              "      <td>111.840900</td>\n",
              "      <td>111.485901</td>\n",
              "      <td>111.201298</td>\n",
              "      <td>111.147053</td>\n",
              "      <td>111.201550</td>\n",
              "      <td>111.266148</td>\n",
              "      <td>109.696747</td>\n",
              "      <td>109.629948</td>\n",
              "      <td>109.644501</td>\n",
              "      <td>109.676147</td>\n",
              "      <td>109.893997</td>\n",
              "      <td>110.142101</td>\n",
              "      <td>110.951153</td>\n",
              "      <td>111.216053</td>\n",
              "      <td>111.261051</td>\n",
              "      <td>110.918499</td>\n",
              "      <td>110.174950</td>\n",
              "      <td>109.091499</td>\n",
              "      <td>107.969898</td>\n",
              "      <td>107.049149</td>\n",
              "      <td>106.633404</td>\n",
              "      <td>106.466400</td>\n",
              "      <td>106.619499</td>\n",
              "      <td>107.195702</td>\n",
              "      <td>107.948498</td>\n",
              "      <td>108.983749</td>\n",
              "      <td>110.062599</td>\n",
              "      <td>111.062950</td>\n",
              "      <td>111.967300</td>\n",
              "      <td>112.491997</td>\n",
              "      <td>112.473549</td>\n",
              "      <td>112.658901</td>\n",
              "      <td>112.411549</td>\n",
              "      <td>112.302402</td>\n",
              "      <td>111.954250</td>\n",
              "      <td>111.820202</td>\n",
              "      <td>111.838898</td>\n",
              "      <td>112.056850</td>\n",
              "    </tr>\n",
              "    <tr>\n",
              "      <th>75%</th>\n",
              "      <td>148.826096</td>\n",
              "      <td>148.944946</td>\n",
              "      <td>149.310204</td>\n",
              "      <td>149.871769</td>\n",
              "      <td>150.043571</td>\n",
              "      <td>150.364250</td>\n",
              "      <td>150.809429</td>\n",
              "      <td>151.360600</td>\n",
              "      <td>151.899651</td>\n",
              "      <td>152.062355</td>\n",
              "      <td>152.223721</td>\n",
              "      <td>151.981426</td>\n",
              "      <td>151.509228</td>\n",
              "      <td>150.940025</td>\n",
              "      <td>150.034302</td>\n",
              "      <td>149.734127</td>\n",
              "      <td>149.771023</td>\n",
              "      <td>149.882954</td>\n",
              "      <td>150.253571</td>\n",
              "      <td>150.918995</td>\n",
              "      <td>151.263424</td>\n",
              "      <td>151.668274</td>\n",
              "      <td>151.724354</td>\n",
              "      <td>151.619175</td>\n",
              "      <td>151.045399</td>\n",
              "      <td>150.347275</td>\n",
              "      <td>149.875954</td>\n",
              "      <td>149.116802</td>\n",
              "      <td>148.831600</td>\n",
              "      <td>148.392250</td>\n",
              "      <td>147.987675</td>\n",
              "      <td>148.062752</td>\n",
              "      <td>147.905796</td>\n",
              "      <td>147.914307</td>\n",
              "      <td>148.306278</td>\n",
              "      <td>148.796799</td>\n",
              "      <td>148.946503</td>\n",
              "      <td>149.681450</td>\n",
              "      <td>150.092628</td>\n",
              "      <td>150.869602</td>\n",
              "      <td>...</td>\n",
              "      <td>149.207745</td>\n",
              "      <td>149.074226</td>\n",
              "      <td>148.706272</td>\n",
              "      <td>148.177425</td>\n",
              "      <td>147.754093</td>\n",
              "      <td>147.238922</td>\n",
              "      <td>147.298256</td>\n",
              "      <td>147.578651</td>\n",
              "      <td>146.135296</td>\n",
              "      <td>146.018826</td>\n",
              "      <td>146.142502</td>\n",
              "      <td>146.612053</td>\n",
              "      <td>146.913105</td>\n",
              "      <td>147.577248</td>\n",
              "      <td>148.176155</td>\n",
              "      <td>148.916794</td>\n",
              "      <td>149.164204</td>\n",
              "      <td>148.725468</td>\n",
              "      <td>147.752781</td>\n",
              "      <td>146.265053</td>\n",
              "      <td>144.749523</td>\n",
              "      <td>142.925507</td>\n",
              "      <td>141.929504</td>\n",
              "      <td>141.193604</td>\n",
              "      <td>141.218426</td>\n",
              "      <td>142.086754</td>\n",
              "      <td>143.708179</td>\n",
              "      <td>145.224247</td>\n",
              "      <td>147.449852</td>\n",
              "      <td>149.119324</td>\n",
              "      <td>150.039951</td>\n",
              "      <td>150.076923</td>\n",
              "      <td>150.002422</td>\n",
              "      <td>149.725979</td>\n",
              "      <td>149.181419</td>\n",
              "      <td>148.888027</td>\n",
              "      <td>148.284023</td>\n",
              "      <td>147.907528</td>\n",
              "      <td>147.914307</td>\n",
              "      <td>148.002899</td>\n",
              "    </tr>\n",
              "    <tr>\n",
              "      <th>max</th>\n",
              "      <td>254.974503</td>\n",
              "      <td>254.974503</td>\n",
              "      <td>254.974503</td>\n",
              "      <td>254.974503</td>\n",
              "      <td>254.974503</td>\n",
              "      <td>254.974503</td>\n",
              "      <td>254.974503</td>\n",
              "      <td>254.974503</td>\n",
              "      <td>254.974503</td>\n",
              "      <td>254.974503</td>\n",
              "      <td>254.974503</td>\n",
              "      <td>254.974503</td>\n",
              "      <td>254.974503</td>\n",
              "      <td>254.974503</td>\n",
              "      <td>254.974503</td>\n",
              "      <td>254.974503</td>\n",
              "      <td>254.974503</td>\n",
              "      <td>254.974503</td>\n",
              "      <td>254.974503</td>\n",
              "      <td>254.974503</td>\n",
              "      <td>254.974503</td>\n",
              "      <td>254.974503</td>\n",
              "      <td>254.974503</td>\n",
              "      <td>254.974503</td>\n",
              "      <td>254.974503</td>\n",
              "      <td>254.974503</td>\n",
              "      <td>254.974503</td>\n",
              "      <td>254.974503</td>\n",
              "      <td>254.974503</td>\n",
              "      <td>254.974503</td>\n",
              "      <td>254.974503</td>\n",
              "      <td>254.974503</td>\n",
              "      <td>254.974503</td>\n",
              "      <td>254.974503</td>\n",
              "      <td>254.974503</td>\n",
              "      <td>254.974503</td>\n",
              "      <td>254.974503</td>\n",
              "      <td>254.974503</td>\n",
              "      <td>254.974503</td>\n",
              "      <td>254.974503</td>\n",
              "      <td>...</td>\n",
              "      <td>254.974503</td>\n",
              "      <td>254.974503</td>\n",
              "      <td>254.974503</td>\n",
              "      <td>254.974503</td>\n",
              "      <td>254.974503</td>\n",
              "      <td>254.974503</td>\n",
              "      <td>254.974503</td>\n",
              "      <td>254.974503</td>\n",
              "      <td>254.974503</td>\n",
              "      <td>254.974503</td>\n",
              "      <td>254.974503</td>\n",
              "      <td>254.974503</td>\n",
              "      <td>254.974503</td>\n",
              "      <td>254.974503</td>\n",
              "      <td>254.974503</td>\n",
              "      <td>254.974503</td>\n",
              "      <td>254.974503</td>\n",
              "      <td>254.974503</td>\n",
              "      <td>254.974503</td>\n",
              "      <td>254.974503</td>\n",
              "      <td>254.974503</td>\n",
              "      <td>254.974503</td>\n",
              "      <td>254.974503</td>\n",
              "      <td>254.974503</td>\n",
              "      <td>254.974503</td>\n",
              "      <td>254.974503</td>\n",
              "      <td>254.974503</td>\n",
              "      <td>254.974503</td>\n",
              "      <td>254.974503</td>\n",
              "      <td>254.974503</td>\n",
              "      <td>254.974503</td>\n",
              "      <td>254.974503</td>\n",
              "      <td>254.974503</td>\n",
              "      <td>254.974503</td>\n",
              "      <td>254.974503</td>\n",
              "      <td>254.974503</td>\n",
              "      <td>254.974503</td>\n",
              "      <td>254.974503</td>\n",
              "      <td>254.974503</td>\n",
              "      <td>254.974503</td>\n",
              "    </tr>\n",
              "  </tbody>\n",
              "</table>\n",
              "<p>8 rows × 1024 columns</p>\n",
              "</div>"
            ],
            "text/plain": [
              "               0             1     ...          1022          1023\n",
              "count  42000.000000  42000.000000  ...  42000.000000  42000.000000\n",
              "mean     114.507393    114.593391  ...    114.184059    114.324036\n",
              "std       51.137077     51.118355  ...     50.452549     50.549885\n",
              "min        4.130600      3.967300  ...      4.167500      4.383000\n",
              "25%       74.937826     74.851625  ...     75.110773     75.143078\n",
              "50%      111.418900    111.726151  ...    111.838898    112.056850\n",
              "75%      148.826096    148.944946  ...    147.914307    148.002899\n",
              "max      254.974503    254.974503  ...    254.974503    254.974503\n",
              "\n",
              "[8 rows x 1024 columns]"
            ]
          },
          "metadata": {
            "tags": []
          },
          "execution_count": 13
        }
      ]
    },
    {
      "cell_type": "code",
      "metadata": {
        "id": "Gj-K3MWJMjoA",
        "colab_type": "code",
        "outputId": "2d6e4704-651a-4742-fe1a-c7469155fa93",
        "colab": {
          "base_uri": "https://localhost:8080/",
          "height": 34
        }
      },
      "source": [
        "#for k in range(1, 6, 2):\n",
        "# train the k-Nearest Neighbor classifier with the current value of `k`\n",
        "model = KNeighborsClassifier(n_neighbors=1)\n",
        "model.fit(X_train, y_train)\n",
        "# evaluate the model and update the accuracies list\n",
        "score = model.score(X_val, y_val)\n",
        "print(\"k=%d, accuracy=%.2f%%\" % (1, score * 100))\n",
        "#accuracies.append(score)"
      ],
      "execution_count": 0,
      "outputs": [
        {
          "output_type": "stream",
          "text": [
            "k=1, accuracy=83.78%\n"
          ],
          "name": "stdout"
        }
      ]
    },
    {
      "cell_type": "code",
      "metadata": {
        "id": "lLlw4YzLTuZR",
        "colab_type": "code",
        "colab": {}
      },
      "source": [
        "predictions = model.predict(X_test)"
      ],
      "execution_count": 0,
      "outputs": []
    },
    {
      "cell_type": "markdown",
      "metadata": {
        "id": "DvufzaDyNvu2",
        "colab_type": "text"
      },
      "source": [
        "**Due to system constrent go with n_neighbors = 1. actual code will be below**\n",
        "\n",
        "for k in range(1, 30, 2):\n",
        "\n",
        "      # train the k-Nearest Neighbor classifier with the current value of `k`\n",
        "      model = KNeighborsClassifier(n_neighbors=k)\n",
        "      model.fit(trainData, trainLabels)\n",
        "      # evaluate the model and update the accuracies list\n",
        "      score = model.score(valData, valLabels)\n",
        "      print(\"k=%d, accuracy=%.2f%%\" % (k, score * 100))\n",
        "      accuracies.append(score)\n",
        "find the value of k that has the largest accuracy\n",
        "\n",
        "i = np.argmax(accuracies)\n",
        "\n",
        "print(\"k=%d achieved highest accuracy of %.2f%% on validation data\" % (kVals[i],accuracies[i] * 100))"
      ]
    },
    {
      "cell_type": "code",
      "metadata": {
        "id": "CmG6jAFu2zUC",
        "colab_type": "code",
        "outputId": "4a6d7011-0599-44c9-dd47-1990f4880111",
        "colab": {
          "base_uri": "https://localhost:8080/",
          "height": 504
        }
      },
      "source": [
        "from sklearn.metrics import confusion_matrix\n",
        "from sklearn.metrics import classification_report\n",
        "import cv2\n",
        "import matplotlib.pyplot as plt\n",
        "from skimage import exposure\n",
        "print(\"EVALUATION ON TESTING DATA\")\n",
        "print(classification_report(y_test, predictions))\n",
        "\n",
        "print (\"Confusion matrix\")\n",
        "print(confusion_matrix(y_test,predictions))"
      ],
      "execution_count": 0,
      "outputs": [
        {
          "output_type": "stream",
          "text": [
            "EVALUATION ON TESTING DATA\n",
            "              precision    recall  f1-score   support\n",
            "\n",
            "           0       0.47      0.52      0.49      1814\n",
            "           1       0.50      0.57      0.53      1828\n",
            "           2       0.54      0.48      0.51      1803\n",
            "           3       0.37      0.35      0.36      1719\n",
            "           4       0.60      0.57      0.59      1812\n",
            "           5       0.38      0.33      0.36      1768\n",
            "           6       0.38      0.39      0.39      1832\n",
            "           7       0.63      0.59      0.61      1808\n",
            "           8       0.34      0.37      0.36      1812\n",
            "           9       0.39      0.40      0.40      1804\n",
            "\n",
            "    accuracy                           0.46     18000\n",
            "   macro avg       0.46      0.46      0.46     18000\n",
            "weighted avg       0.46      0.46      0.46     18000\n",
            "\n",
            "Confusion matrix\n",
            "[[ 935   43   51   64   71   65  185   40  170  190]\n",
            " [  51 1034  109  122  123   69   68  119   67   66]\n",
            " [  63  135  872  131   82   74   65  168   79  134]\n",
            " [  67  166  127  610   88  229   82   80  149  121]\n",
            " [  85  195   51   71 1039   55  111   35   98   72]\n",
            " [  94  103   71  220   54  588  203   48  205  182]\n",
            " [ 225   74   51   72  102  154  711   33  295  115]\n",
            " [  65  173  146  100   34   38   48 1071   53   80]\n",
            " [ 150   62   59  130   86  153  267   44  675  186]\n",
            " [ 238   87   89  115   60  113  115   65  192  730]]\n"
          ],
          "name": "stdout"
        }
      ]
    },
    {
      "cell_type": "code",
      "metadata": {
        "id": "1wCr0vLOQeGj",
        "colab_type": "code",
        "colab": {}
      },
      "source": [
        "score = model.score(X_val, y_val)\n",
        "print(\"k=%d, accuracy=%.2f%%\" % (30, score * 100))\n",
        "#accuracies.append(score)"
      ],
      "execution_count": 0,
      "outputs": []
    },
    {
      "cell_type": "code",
      "metadata": {
        "id": "EIgEP01zdENX",
        "colab_type": "code",
        "colab": {}
      },
      "source": [
        "from keras.models import Sequential\n",
        "from keras.layers import Activation, Dense\n",
        "from keras import optimizers\n",
        "from keras.utils.np_utils import to_categorical\n",
        "# converting y data into categorical (one-hot encoding)\n",
        "y_train = to_categorical(y_train)\n",
        "y_test = to_categorical(y_test)\n",
        "model = Sequential()"
      ],
      "execution_count": 0,
      "outputs": []
    },
    {
      "cell_type": "code",
      "metadata": {
        "id": "nMA6ES5IdXxF",
        "colab_type": "code",
        "colab": {}
      },
      "source": [
        "model.add(Dense(50, input_shape = (1024, )))\n",
        "model.add(Activation('sigmoid'))\n",
        "model.add(Dense(50))\n",
        "model.add(Activation('sigmoid'))\n",
        "model.add(Dense(50))\n",
        "model.add(Activation('sigmoid'))\n",
        "model.add(Dense(50))\n",
        "model.add(Activation('sigmoid'))\n",
        "model.add(Dense(10))\n",
        "model.add(Activation('softmax'))"
      ],
      "execution_count": 0,
      "outputs": []
    },
    {
      "cell_type": "code",
      "metadata": {
        "id": "OmHOgTg-dfNY",
        "colab_type": "code",
        "colab": {}
      },
      "source": [
        "sgd = optimizers.SGD(lr = 0.01)\n",
        "model.compile(optimizer = sgd, loss = 'categorical_crossentropy', metrics = ['accuracy'])"
      ],
      "execution_count": 0,
      "outputs": []
    },
    {
      "cell_type": "code",
      "metadata": {
        "id": "gxtExVaLdjRk",
        "colab_type": "code",
        "colab": {}
      },
      "source": [
        "history = model.fit(X_train, y_train, batch_size = 200, epochs = 100, verbose = 1)"
      ],
      "execution_count": 0,
      "outputs": []
    }
  ]
}