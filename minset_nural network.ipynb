{
  "nbformat": 4,
  "nbformat_minor": 0,
  "metadata": {
    "colab": {
      "name": "minset.ipynb",
      "provenance": [],
      "collapsed_sections": [],
      "include_colab_link": true
    },
    "kernelspec": {
      "name": "python3",
      "display_name": "Python 3"
    }
  },
  "cells": [
    {
      "cell_type": "markdown",
      "metadata": {
        "id": "view-in-github",
        "colab_type": "text"
      },
      "source": [
        "<a href=\"https://colab.research.google.com/github/Rajanikant/ML/blob/master/minset_nural%20network.ipynb\" target=\"_parent\"><img src=\"https://colab.research.google.com/assets/colab-badge.svg\" alt=\"Open In Colab\"/></a>"
      ]
    },
    {
      "cell_type": "code",
      "metadata": {
        "id": "pdFYtja8qpKl",
        "colab_type": "code",
        "colab": {}
      },
      "source": [
        "import numpy as np\n",
        "import pandas as pd\n",
        "import h5py"
      ],
      "execution_count": 0,
      "outputs": []
    },
    {
      "cell_type": "code",
      "metadata": {
        "id": "5SUEAD_TsT8c",
        "colab_type": "code",
        "colab": {
          "base_uri": "https://localhost:8080/",
          "height": 34
        },
        "outputId": "15535efb-0e7a-4b00-93a0-ac70782bf0ba"
      },
      "source": [
        "from google.colab import drive\n",
        "\n",
        "drive.mount('/content/gdrive')\n",
        "#import io\n",
        "#f = h5py.File('https://drive.google.com/open?id=1MPpbNT3gSanUJwd3KPdszz_pfcWSLopR', 'r')\n"
      ],
      "execution_count": 44,
      "outputs": [
        {
          "output_type": "stream",
          "text": [
            "Mounted at /content/gdrive\n"
          ],
          "name": "stdout"
        }
      ]
    },
    {
      "cell_type": "code",
      "metadata": {
        "id": "b6ejl02Fr8Ic",
        "colab_type": "code",
        "colab": {}
      },
      "source": [
        "root_path = 'gdrive/My Drive/ColabNotebooks/SVHN_single_grey1.h5'\n",
        "f = h5py.File(root_path, 'r')"
      ],
      "execution_count": 0,
      "outputs": []
    },
    {
      "cell_type": "code",
      "metadata": {
        "id": "e0rzLrS5MEnk",
        "colab_type": "code",
        "outputId": "7323b4cd-62f3-4c5f-bfed-f401aca15459",
        "colab": {
          "base_uri": "https://localhost:8080/",
          "height": 34
        }
      },
      "source": [
        "list(f.keys())"
      ],
      "execution_count": 47,
      "outputs": [
        {
          "output_type": "execute_result",
          "data": {
            "text/plain": [
              "['X_test', 'X_train', 'X_val', 'y_test', 'y_train', 'y_val']"
            ]
          },
          "metadata": {
            "tags": []
          },
          "execution_count": 47
        }
      ]
    },
    {
      "cell_type": "code",
      "metadata": {
        "id": "5_M8HGPwMP1F",
        "colab_type": "code",
        "colab": {}
      },
      "source": [
        "from sklearn.neighbors import KNeighborsClassifier\n",
        "from sklearn.metrics import confusion_matrix\n",
        "import matplotlib.pyplot as plt"
      ],
      "execution_count": 0,
      "outputs": []
    },
    {
      "cell_type": "code",
      "metadata": {
        "id": "8ouepnGKMWiF",
        "colab_type": "code",
        "colab": {}
      },
      "source": [
        "X_train = np.array(f['X_train']).reshape((f['X_train'].shape[0], -1))\n",
        "X_test = np.array(f['X_test']).reshape((f['X_test'].shape[0], -1))\n",
        "y_train = np.array(f['y_train']).reshape((f['y_train'].shape[0], -1))\n",
        "y_test = np.array(f['y_test']).reshape((f['y_test'].shape[0], -1))\n",
        "X_val = np.array(f['X_val']).reshape((f['X_val'].shape[0], -1))\n",
        "y_val = np.array(f['y_val']).reshape((f['y_val'].shape[0], -1))"
      ],
      "execution_count": 0,
      "outputs": []
    },
    {
      "cell_type": "code",
      "metadata": {
        "id": "lu1e9Zkftixh",
        "colab_type": "code",
        "outputId": "34c34925-687f-4a94-e11b-6f6043e6487f",
        "colab": {
          "base_uri": "https://localhost:8080/",
          "height": 50
        }
      },
      "source": [
        "# # normalize inputs from 0-255 to 0-1\n",
        "train_features = X_train / 255.0\n",
        "test_features = X_test / 255.0\n",
        "val_feature = X_val/255.0\n",
        "\n",
        "print(y_train.shape)\n",
        "print (y_test.shape)"
      ],
      "execution_count": 50,
      "outputs": [
        {
          "output_type": "stream",
          "text": [
            "(42000, 1)\n",
            "(18000, 1)\n"
          ],
          "name": "stdout"
        }
      ]
    },
    {
      "cell_type": "code",
      "metadata": {
        "id": "rJF9BUxfMa9i",
        "colab_type": "code",
        "colab": {}
      },
      "source": [
        "X_train = pd.DataFrame(X_train)\n",
        "X_test = pd.DataFrame(X_test)\n",
        "y_train = pd.DataFrame(y_train)\n",
        "y_test = pd.DataFrame(y_test)\n",
        "X_val = pd.DataFrame(X_val)\n",
        "y_val = pd.DataFrame(y_val)"
      ],
      "execution_count": 0,
      "outputs": []
    },
    {
      "cell_type": "code",
      "metadata": {
        "id": "ix96M8a2MgE8",
        "colab_type": "code",
        "colab": {}
      },
      "source": [
        "\n",
        "import warnings; \n",
        "warnings.simplefilter('ignore')"
      ],
      "execution_count": 0,
      "outputs": []
    },
    {
      "cell_type": "code",
      "metadata": {
        "id": "EIgEP01zdENX",
        "colab_type": "code",
        "colab": {}
      },
      "source": [
        "from keras.models import Sequential\n",
        "from keras.layers import Activation, Dense\n",
        "from keras import optimizers\n",
        "from keras.utils.np_utils import to_categorical\n",
        "# converting y data into categorical (one-hot encoding)\n",
        "y_train = to_categorical(y_train)\n",
        "y_test = to_categorical(y_test)\n",
        "model = Sequential()"
      ],
      "execution_count": 0,
      "outputs": []
    },
    {
      "cell_type": "code",
      "metadata": {
        "id": "nMA6ES5IdXxF",
        "colab_type": "code",
        "colab": {}
      },
      "source": [
        "model.add(Dense(1024, input_shape = (1024, )))\n",
        "model.add(Activation('sigmoid'))\n",
        "model.add(Dense(1024))\n",
        "model.add(Activation('sigmoid'))\n",
        "model.add(Dense(128))\n",
        "model.add(Activation('sigmoid'))\n",
        "model.add(Dense(128))\n",
        "model.add(Activation('sigmoid'))\n",
        "model.add(Dense(10))\n",
        "model.add(Activation('softmax'))"
      ],
      "execution_count": 0,
      "outputs": []
    },
    {
      "cell_type": "code",
      "metadata": {
        "id": "OmHOgTg-dfNY",
        "colab_type": "code",
        "colab": {}
      },
      "source": [
        "sgd = optimizers.SGD(lr = 0.01)\n",
        "model.compile(optimizer = sgd, loss = 'categorical_crossentropy', metrics = ['accuracy'])"
      ],
      "execution_count": 0,
      "outputs": []
    },
    {
      "cell_type": "code",
      "metadata": {
        "id": "gxtExVaLdjRk",
        "colab_type": "code",
        "outputId": "d4d96ffc-fa01-401d-efbb-eeb8e0c5a207",
        "colab": {
          "base_uri": "https://localhost:8080/",
          "height": 1000
        }
      },
      "source": [
        "history = model.fit(X_train, y_train, batch_size = 200, epochs = 100, verbose = 1)"
      ],
      "execution_count": 56,
      "outputs": [
        {
          "output_type": "stream",
          "text": [
            "Epoch 1/100\n",
            "42000/42000 [==============================] - 2s 49us/step - loss: 2.3190 - acc: 0.1017\n",
            "Epoch 2/100\n",
            "42000/42000 [==============================] - 2s 43us/step - loss: 2.3028 - acc: 0.0997\n",
            "Epoch 3/100\n",
            "42000/42000 [==============================] - 2s 39us/step - loss: 2.3029 - acc: 0.0997\n",
            "Epoch 4/100\n",
            "42000/42000 [==============================] - 2s 43us/step - loss: 2.3028 - acc: 0.0997\n",
            "Epoch 5/100\n",
            "42000/42000 [==============================] - 2s 42us/step - loss: 2.3027 - acc: 0.1012\n",
            "Epoch 6/100\n",
            "42000/42000 [==============================] - 2s 41us/step - loss: 2.3025 - acc: 0.1023\n",
            "Epoch 7/100\n",
            "42000/42000 [==============================] - 2s 42us/step - loss: 2.3026 - acc: 0.1033\n",
            "Epoch 8/100\n",
            "42000/42000 [==============================] - 2s 42us/step - loss: 2.3025 - acc: 0.1048\n",
            "Epoch 9/100\n",
            "42000/42000 [==============================] - 2s 39us/step - loss: 2.3026 - acc: 0.1019\n",
            "Epoch 10/100\n",
            "42000/42000 [==============================] - 2s 43us/step - loss: 2.3024 - acc: 0.1056\n",
            "Epoch 11/100\n",
            "42000/42000 [==============================] - 2s 42us/step - loss: 2.3025 - acc: 0.1022\n",
            "Epoch 12/100\n",
            "42000/42000 [==============================] - 2s 40us/step - loss: 2.3024 - acc: 0.1060\n",
            "Epoch 13/100\n",
            "42000/42000 [==============================] - 2s 41us/step - loss: 2.3025 - acc: 0.1031\n",
            "Epoch 14/100\n",
            "42000/42000 [==============================] - 2s 41us/step - loss: 2.3024 - acc: 0.1032\n",
            "Epoch 15/100\n",
            "42000/42000 [==============================] - 2s 42us/step - loss: 2.3024 - acc: 0.1020\n",
            "Epoch 16/100\n",
            "42000/42000 [==============================] - 2s 40us/step - loss: 2.3023 - acc: 0.1018\n",
            "Epoch 17/100\n",
            "42000/42000 [==============================] - 2s 40us/step - loss: 2.3024 - acc: 0.1038\n",
            "Epoch 18/100\n",
            "42000/42000 [==============================] - 2s 41us/step - loss: 2.3023 - acc: 0.1028\n",
            "Epoch 19/100\n",
            "42000/42000 [==============================] - 2s 45us/step - loss: 2.3024 - acc: 0.1027\n",
            "Epoch 20/100\n",
            "42000/42000 [==============================] - 2s 43us/step - loss: 2.3021 - acc: 0.1031\n",
            "Epoch 21/100\n",
            "42000/42000 [==============================] - 2s 43us/step - loss: 2.3021 - acc: 0.1059\n",
            "Epoch 22/100\n",
            "42000/42000 [==============================] - 2s 45us/step - loss: 2.3022 - acc: 0.1037\n",
            "Epoch 23/100\n",
            "42000/42000 [==============================] - 2s 40us/step - loss: 2.3022 - acc: 0.1053\n",
            "Epoch 24/100\n",
            "42000/42000 [==============================] - 2s 41us/step - loss: 2.3021 - acc: 0.1058\n",
            "Epoch 25/100\n",
            "42000/42000 [==============================] - 2s 42us/step - loss: 2.3022 - acc: 0.1037\n",
            "Epoch 26/100\n",
            "42000/42000 [==============================] - 2s 42us/step - loss: 2.3019 - acc: 0.1051\n",
            "Epoch 27/100\n",
            "42000/42000 [==============================] - 2s 39us/step - loss: 2.3020 - acc: 0.1056\n",
            "Epoch 28/100\n",
            "42000/42000 [==============================] - 2s 42us/step - loss: 2.3019 - acc: 0.1055\n",
            "Epoch 29/100\n",
            "42000/42000 [==============================] - 2s 38us/step - loss: 2.3019 - acc: 0.1065\n",
            "Epoch 30/100\n",
            "42000/42000 [==============================] - 2s 43us/step - loss: 2.3018 - acc: 0.1049\n",
            "Epoch 31/100\n",
            "42000/42000 [==============================] - 2s 42us/step - loss: 2.3018 - acc: 0.1058\n",
            "Epoch 32/100\n",
            "42000/42000 [==============================] - 2s 42us/step - loss: 2.3018 - acc: 0.1079\n",
            "Epoch 33/100\n",
            "42000/42000 [==============================] - 2s 43us/step - loss: 2.3018 - acc: 0.1054\n",
            "Epoch 34/100\n",
            "42000/42000 [==============================] - 2s 44us/step - loss: 2.3018 - acc: 0.1083\n",
            "Epoch 35/100\n",
            "42000/42000 [==============================] - 2s 42us/step - loss: 2.3018 - acc: 0.1060\n",
            "Epoch 36/100\n",
            "42000/42000 [==============================] - 2s 42us/step - loss: 2.3017 - acc: 0.1070\n",
            "Epoch 37/100\n",
            "42000/42000 [==============================] - 2s 42us/step - loss: 2.3016 - acc: 0.1087\n",
            "Epoch 38/100\n",
            "42000/42000 [==============================] - 2s 42us/step - loss: 2.3016 - acc: 0.1069\n",
            "Epoch 39/100\n",
            "42000/42000 [==============================] - 2s 40us/step - loss: 2.3016 - acc: 0.1075\n",
            "Epoch 40/100\n",
            "42000/42000 [==============================] - 2s 42us/step - loss: 2.3015 - acc: 0.1076\n",
            "Epoch 41/100\n",
            "42000/42000 [==============================] - 2s 41us/step - loss: 2.3015 - acc: 0.1074\n",
            "Epoch 42/100\n",
            "42000/42000 [==============================] - 2s 40us/step - loss: 2.3014 - acc: 0.1082\n",
            "Epoch 43/100\n",
            "42000/42000 [==============================] - 2s 42us/step - loss: 2.3014 - acc: 0.1077\n",
            "Epoch 44/100\n",
            "42000/42000 [==============================] - 2s 43us/step - loss: 2.3013 - acc: 0.1078\n",
            "Epoch 45/100\n",
            "42000/42000 [==============================] - 2s 41us/step - loss: 2.3012 - acc: 0.1113\n",
            "Epoch 46/100\n",
            "42000/42000 [==============================] - 2s 39us/step - loss: 2.3013 - acc: 0.1089\n",
            "Epoch 47/100\n",
            "42000/42000 [==============================] - 2s 44us/step - loss: 2.3012 - acc: 0.1114\n",
            "Epoch 48/100\n",
            "42000/42000 [==============================] - 2s 42us/step - loss: 2.3013 - acc: 0.1083\n",
            "Epoch 49/100\n",
            "42000/42000 [==============================] - 2s 43us/step - loss: 2.3011 - acc: 0.1112\n",
            "Epoch 50/100\n",
            "42000/42000 [==============================] - 2s 43us/step - loss: 2.3011 - acc: 0.1091\n",
            "Epoch 51/100\n",
            "42000/42000 [==============================] - 2s 40us/step - loss: 2.3011 - acc: 0.1111\n",
            "Epoch 52/100\n",
            "42000/42000 [==============================] - 2s 42us/step - loss: 2.3010 - acc: 0.1089\n",
            "Epoch 53/100\n",
            "42000/42000 [==============================] - 2s 41us/step - loss: 2.3010 - acc: 0.1094\n",
            "Epoch 54/100\n",
            "42000/42000 [==============================] - 2s 41us/step - loss: 2.3009 - acc: 0.1118\n",
            "Epoch 55/100\n",
            "42000/42000 [==============================] - 2s 41us/step - loss: 2.3007 - acc: 0.1119\n",
            "Epoch 56/100\n",
            "42000/42000 [==============================] - 2s 40us/step - loss: 2.3008 - acc: 0.1093\n",
            "Epoch 57/100\n",
            "42000/42000 [==============================] - 2s 41us/step - loss: 2.3007 - acc: 0.1140\n",
            "Epoch 58/100\n",
            "42000/42000 [==============================] - 2s 45us/step - loss: 2.3006 - acc: 0.1136\n",
            "Epoch 59/100\n",
            "42000/42000 [==============================] - 2s 45us/step - loss: 2.3005 - acc: 0.1119\n",
            "Epoch 60/100\n",
            "42000/42000 [==============================] - 2s 46us/step - loss: 2.3005 - acc: 0.1160\n",
            "Epoch 61/100\n",
            "42000/42000 [==============================] - 2s 45us/step - loss: 2.3003 - acc: 0.1120\n",
            "Epoch 62/100\n",
            "42000/42000 [==============================] - 2s 44us/step - loss: 2.3003 - acc: 0.1173\n",
            "Epoch 63/100\n",
            "42000/42000 [==============================] - 2s 44us/step - loss: 2.3002 - acc: 0.1144\n",
            "Epoch 64/100\n",
            "42000/42000 [==============================] - 2s 43us/step - loss: 2.3003 - acc: 0.1174\n",
            "Epoch 65/100\n",
            "42000/42000 [==============================] - 2s 42us/step - loss: 2.3002 - acc: 0.1170\n",
            "Epoch 66/100\n",
            "42000/42000 [==============================] - 2s 43us/step - loss: 2.3001 - acc: 0.1153\n",
            "Epoch 67/100\n",
            "42000/42000 [==============================] - 2s 42us/step - loss: 2.2999 - acc: 0.1174\n",
            "Epoch 68/100\n",
            "42000/42000 [==============================] - 2s 42us/step - loss: 2.2999 - acc: 0.1194\n",
            "Epoch 69/100\n",
            "42000/42000 [==============================] - 2s 41us/step - loss: 2.2998 - acc: 0.1175\n",
            "Epoch 70/100\n",
            "42000/42000 [==============================] - 2s 43us/step - loss: 2.2998 - acc: 0.1186\n",
            "Epoch 71/100\n",
            "42000/42000 [==============================] - 2s 41us/step - loss: 2.2998 - acc: 0.1201\n",
            "Epoch 72/100\n",
            "42000/42000 [==============================] - 2s 43us/step - loss: 2.2997 - acc: 0.1157\n",
            "Epoch 73/100\n",
            "42000/42000 [==============================] - 2s 41us/step - loss: 2.2996 - acc: 0.1187\n",
            "Epoch 74/100\n",
            "42000/42000 [==============================] - 2s 42us/step - loss: 2.2995 - acc: 0.1201\n",
            "Epoch 75/100\n",
            "42000/42000 [==============================] - 2s 41us/step - loss: 2.2995 - acc: 0.1229\n",
            "Epoch 76/100\n",
            "42000/42000 [==============================] - 2s 43us/step - loss: 2.2992 - acc: 0.1248\n",
            "Epoch 77/100\n",
            "42000/42000 [==============================] - 2s 43us/step - loss: 2.2992 - acc: 0.1198\n",
            "Epoch 78/100\n",
            "42000/42000 [==============================] - 2s 42us/step - loss: 2.2992 - acc: 0.1285\n",
            "Epoch 79/100\n",
            "42000/42000 [==============================] - 2s 41us/step - loss: 2.2990 - acc: 0.1275\n",
            "Epoch 80/100\n",
            "42000/42000 [==============================] - 2s 41us/step - loss: 2.2989 - acc: 0.1250\n",
            "Epoch 81/100\n",
            "42000/42000 [==============================] - 2s 42us/step - loss: 2.2988 - acc: 0.1228\n",
            "Epoch 82/100\n",
            "42000/42000 [==============================] - 2s 43us/step - loss: 2.2987 - acc: 0.1252\n",
            "Epoch 83/100\n",
            "42000/42000 [==============================] - 2s 41us/step - loss: 2.2987 - acc: 0.1263\n",
            "Epoch 84/100\n",
            "42000/42000 [==============================] - 2s 42us/step - loss: 2.2984 - acc: 0.1269\n",
            "Epoch 85/100\n",
            "42000/42000 [==============================] - 2s 42us/step - loss: 2.2985 - acc: 0.1253\n",
            "Epoch 86/100\n",
            "42000/42000 [==============================] - 2s 42us/step - loss: 2.2983 - acc: 0.1309\n",
            "Epoch 87/100\n",
            "42000/42000 [==============================] - 2s 42us/step - loss: 2.2982 - acc: 0.1278\n",
            "Epoch 88/100\n",
            "42000/42000 [==============================] - 2s 42us/step - loss: 2.2980 - acc: 0.1251\n",
            "Epoch 89/100\n",
            "42000/42000 [==============================] - 2s 41us/step - loss: 2.2979 - acc: 0.1285\n",
            "Epoch 90/100\n",
            "42000/42000 [==============================] - 2s 40us/step - loss: 2.2978 - acc: 0.1376\n",
            "Epoch 91/100\n",
            "42000/42000 [==============================] - 2s 40us/step - loss: 2.2976 - acc: 0.1306\n",
            "Epoch 92/100\n",
            "42000/42000 [==============================] - 2s 42us/step - loss: 2.2973 - acc: 0.1275\n",
            "Epoch 93/100\n",
            "42000/42000 [==============================] - 2s 41us/step - loss: 2.2974 - acc: 0.1371\n",
            "Epoch 94/100\n",
            "42000/42000 [==============================] - 2s 41us/step - loss: 2.2972 - acc: 0.1415\n",
            "Epoch 95/100\n",
            "42000/42000 [==============================] - 2s 40us/step - loss: 2.2970 - acc: 0.1295\n",
            "Epoch 96/100\n",
            "42000/42000 [==============================] - 2s 40us/step - loss: 2.2968 - acc: 0.1363\n",
            "Epoch 97/100\n",
            "42000/42000 [==============================] - 2s 40us/step - loss: 2.2965 - acc: 0.1396\n",
            "Epoch 98/100\n",
            "42000/42000 [==============================] - 2s 41us/step - loss: 2.2964 - acc: 0.1393\n",
            "Epoch 99/100\n",
            "42000/42000 [==============================] - 2s 41us/step - loss: 2.2962 - acc: 0.1430\n",
            "Epoch 100/100\n",
            "42000/42000 [==============================] - 2s 42us/step - loss: 2.2960 - acc: 0.1503\n"
          ],
          "name": "stdout"
        }
      ]
    },
    {
      "cell_type": "code",
      "metadata": {
        "id": "L95f2AJCiwYM",
        "colab_type": "code",
        "outputId": "fb6a75c0-2ae3-4b5f-c2ff-f9a01b9c6b9e",
        "colab": {
          "base_uri": "https://localhost:8080/",
          "height": 34
        }
      },
      "source": [
        "results = model.evaluate(X_test, y_test)"
      ],
      "execution_count": 57,
      "outputs": [
        {
          "output_type": "stream",
          "text": [
            "18000/18000 [==============================] - 1s 42us/step\n"
          ],
          "name": "stdout"
        }
      ]
    },
    {
      "cell_type": "code",
      "metadata": {
        "id": "_C6aI0i5jVMc",
        "colab_type": "code",
        "outputId": "a9ca5c91-9b05-402b-c60b-e1d8ba10ba53",
        "colab": {
          "base_uri": "https://localhost:8080/",
          "height": 34
        }
      },
      "source": [
        "print('Test accuracy: ', results[1])"
      ],
      "execution_count": 58,
      "outputs": [
        {
          "output_type": "stream",
          "text": [
            "Test accuracy:  0.18183333333333335\n"
          ],
          "name": "stdout"
        }
      ]
    },
    {
      "cell_type": "code",
      "metadata": {
        "id": "bO7nwIpljbXR",
        "colab_type": "code",
        "colab": {}
      },
      "source": [
        "model1 = Sequential()\n",
        "model1.add(Dense(1024, input_shape = (1024, )))\n",
        "model1.add(Activation('relu'))\n",
        "model1.add(Dense(1024))\n",
        "model1.add(Activation('relu'))\n",
        "model1.add(Dense(1024))\n",
        "model1.add(Activation('relu'))\n",
        "model1.add(Dense(1024))\n",
        "model1.add(Activation('relu'))\n",
        "model1.add(Dense(10))\n",
        "model1.add(Activation('softmax'))"
      ],
      "execution_count": 0,
      "outputs": []
    },
    {
      "cell_type": "code",
      "metadata": {
        "id": "0pf2N3ErkASA",
        "colab_type": "code",
        "colab": {}
      },
      "source": [
        "sgd = optimizers.SGD(lr = 0.001)\n",
        "model1.compile(optimizer = sgd, loss = 'categorical_crossentropy', metrics = ['accuracy'])"
      ],
      "execution_count": 0,
      "outputs": []
    },
    {
      "cell_type": "code",
      "metadata": {
        "id": "kTlzK_2pkF1o",
        "colab_type": "code",
        "outputId": "5ae9dbd6-dc92-4812-e1aa-185a549f0ab3",
        "colab": {
          "base_uri": "https://localhost:8080/",
          "height": 1000
        }
      },
      "source": [
        "history = model1.fit(X_train, y_train, batch_size = 200, epochs = 100, verbose = 1)"
      ],
      "execution_count": 81,
      "outputs": [
        {
          "output_type": "stream",
          "text": [
            "Epoch 1/100\n",
            "42000/42000 [==============================] - 28s 675us/step - loss: 14.5094 - acc: 0.0998\n",
            "Epoch 2/100\n",
            "42000/42000 [==============================] - 28s 665us/step - loss: 14.5094 - acc: 0.0998\n",
            "Epoch 3/100\n",
            "42000/42000 [==============================] - 29s 686us/step - loss: 14.5094 - acc: 0.0998\n",
            "Epoch 4/100\n",
            "42000/42000 [==============================] - 28s 678us/step - loss: 14.5094 - acc: 0.0998\n",
            "Epoch 5/100\n",
            "42000/42000 [==============================] - 29s 684us/step - loss: 14.5094 - acc: 0.0998\n",
            "Epoch 6/100\n",
            "42000/42000 [==============================] - 29s 686us/step - loss: 14.5094 - acc: 0.0998\n",
            "Epoch 7/100\n",
            "42000/42000 [==============================] - 28s 678us/step - loss: 14.5094 - acc: 0.0998\n",
            "Epoch 8/100\n",
            "42000/42000 [==============================] - 29s 683us/step - loss: 14.5094 - acc: 0.0998\n",
            "Epoch 9/100\n",
            "42000/42000 [==============================] - 29s 683us/step - loss: 14.5094 - acc: 0.0998\n",
            "Epoch 10/100\n",
            "42000/42000 [==============================] - 29s 682us/step - loss: 14.5094 - acc: 0.0998\n",
            "Epoch 11/100\n",
            "42000/42000 [==============================] - 29s 691us/step - loss: 14.5094 - acc: 0.0998\n",
            "Epoch 12/100\n",
            "42000/42000 [==============================] - 29s 680us/step - loss: 14.5094 - acc: 0.0998\n",
            "Epoch 13/100\n",
            "42000/42000 [==============================] - 29s 686us/step - loss: 14.5094 - acc: 0.0998\n",
            "Epoch 14/100\n",
            "42000/42000 [==============================] - 29s 689us/step - loss: 14.5094 - acc: 0.0998\n",
            "Epoch 15/100\n",
            "42000/42000 [==============================] - 29s 683us/step - loss: 14.5094 - acc: 0.0998\n",
            "Epoch 16/100\n",
            "42000/42000 [==============================] - 29s 685us/step - loss: 14.5094 - acc: 0.0998\n",
            "Epoch 17/100\n",
            "42000/42000 [==============================] - 28s 676us/step - loss: 14.5094 - acc: 0.0998\n",
            "Epoch 18/100\n",
            "42000/42000 [==============================] - 28s 678us/step - loss: 14.5094 - acc: 0.0998\n",
            "Epoch 19/100\n",
            "42000/42000 [==============================] - 28s 676us/step - loss: 14.5094 - acc: 0.0998\n",
            "Epoch 20/100\n",
            "42000/42000 [==============================] - 28s 676us/step - loss: 14.5094 - acc: 0.0998\n",
            "Epoch 21/100\n",
            "42000/42000 [==============================] - 30s 706us/step - loss: 14.5094 - acc: 0.0998\n",
            "Epoch 22/100\n",
            "42000/42000 [==============================] - 29s 686us/step - loss: 14.5094 - acc: 0.0998\n",
            "Epoch 23/100\n",
            "42000/42000 [==============================] - 29s 683us/step - loss: 14.5094 - acc: 0.0998\n",
            "Epoch 24/100\n",
            "42000/42000 [==============================] - 29s 688us/step - loss: 14.5094 - acc: 0.0998\n",
            "Epoch 25/100\n",
            "42000/42000 [==============================] - 29s 681us/step - loss: 14.5094 - acc: 0.0998\n",
            "Epoch 26/100\n",
            "42000/42000 [==============================] - 29s 681us/step - loss: 14.5094 - acc: 0.0998\n",
            "Epoch 27/100\n",
            "42000/42000 [==============================] - 29s 679us/step - loss: 14.5094 - acc: 0.0998\n",
            "Epoch 28/100\n",
            "42000/42000 [==============================] - 28s 677us/step - loss: 14.5094 - acc: 0.0998\n",
            "Epoch 29/100\n",
            "42000/42000 [==============================] - 28s 678us/step - loss: 14.5094 - acc: 0.0998\n",
            "Epoch 30/100\n",
            "42000/42000 [==============================] - 29s 679us/step - loss: 14.5094 - acc: 0.0998\n",
            "Epoch 31/100\n",
            "42000/42000 [==============================] - 28s 673us/step - loss: 14.5094 - acc: 0.0998\n",
            "Epoch 32/100\n",
            "42000/42000 [==============================] - 29s 682us/step - loss: 14.5094 - acc: 0.0998\n",
            "Epoch 33/100\n",
            "42000/42000 [==============================] - 29s 683us/step - loss: 14.5094 - acc: 0.0998\n",
            "Epoch 34/100\n",
            "42000/42000 [==============================] - 28s 677us/step - loss: 14.5094 - acc: 0.0998\n",
            "Epoch 35/100\n",
            "42000/42000 [==============================] - 29s 682us/step - loss: 14.5094 - acc: 0.0998\n",
            "Epoch 36/100\n",
            "42000/42000 [==============================] - 28s 677us/step - loss: 14.5094 - acc: 0.0998\n",
            "Epoch 37/100\n",
            "42000/42000 [==============================] - 28s 678us/step - loss: 14.5094 - acc: 0.0998\n",
            "Epoch 38/100\n",
            "42000/42000 [==============================] - 28s 676us/step - loss: 14.5094 - acc: 0.0998\n",
            "Epoch 39/100\n",
            "42000/42000 [==============================] - 28s 672us/step - loss: 14.5094 - acc: 0.0998\n",
            "Epoch 40/100\n",
            "42000/42000 [==============================] - 28s 677us/step - loss: 14.5094 - acc: 0.0998\n",
            "Epoch 41/100\n",
            "42000/42000 [==============================] - 28s 677us/step - loss: 14.5094 - acc: 0.0998\n",
            "Epoch 42/100\n",
            "42000/42000 [==============================] - 28s 677us/step - loss: 14.5094 - acc: 0.0998\n",
            "Epoch 43/100\n",
            "42000/42000 [==============================] - 29s 683us/step - loss: 14.5094 - acc: 0.0998\n",
            "Epoch 44/100\n",
            "42000/42000 [==============================] - 28s 677us/step - loss: 14.5094 - acc: 0.0998\n",
            "Epoch 45/100\n",
            "42000/42000 [==============================] - 29s 679us/step - loss: 14.5094 - acc: 0.0998\n",
            "Epoch 46/100\n",
            "42000/42000 [==============================] - 29s 684us/step - loss: 14.5094 - acc: 0.0998\n",
            "Epoch 47/100\n",
            "42000/42000 [==============================] - 29s 683us/step - loss: 14.5094 - acc: 0.0998\n",
            "Epoch 48/100\n",
            "42000/42000 [==============================] - 29s 687us/step - loss: 14.5094 - acc: 0.0998\n",
            "Epoch 49/100\n",
            "42000/42000 [==============================] - 28s 673us/step - loss: 14.5094 - acc: 0.0998\n",
            "Epoch 50/100\n",
            "42000/42000 [==============================] - 28s 668us/step - loss: 14.5094 - acc: 0.0998\n",
            "Epoch 51/100\n",
            "42000/42000 [==============================] - 28s 664us/step - loss: 14.5094 - acc: 0.0998\n",
            "Epoch 52/100\n",
            "42000/42000 [==============================] - 27s 644us/step - loss: 14.5094 - acc: 0.0998\n",
            "Epoch 53/100\n",
            "42000/42000 [==============================] - 27s 646us/step - loss: 14.5094 - acc: 0.0998\n",
            "Epoch 54/100\n",
            "42000/42000 [==============================] - 29s 687us/step - loss: 14.5094 - acc: 0.0998\n",
            "Epoch 55/100\n",
            "42000/42000 [==============================] - 29s 681us/step - loss: 14.5094 - acc: 0.0998\n",
            "Epoch 56/100\n",
            "42000/42000 [==============================] - 28s 671us/step - loss: 14.5094 - acc: 0.0998\n",
            "Epoch 57/100\n",
            "42000/42000 [==============================] - 29s 679us/step - loss: 14.5094 - acc: 0.0998\n",
            "Epoch 58/100\n",
            "42000/42000 [==============================] - 28s 674us/step - loss: 14.5094 - acc: 0.0998\n",
            "Epoch 59/100\n",
            "42000/42000 [==============================] - 28s 674us/step - loss: 14.5094 - acc: 0.0998\n",
            "Epoch 60/100\n",
            "42000/42000 [==============================] - 28s 672us/step - loss: 14.5094 - acc: 0.0998\n",
            "Epoch 61/100\n",
            "42000/42000 [==============================] - 28s 676us/step - loss: 14.5094 - acc: 0.0998\n",
            "Epoch 62/100\n",
            "42000/42000 [==============================] - 28s 669us/step - loss: 14.5094 - acc: 0.0998\n",
            "Epoch 63/100\n",
            "42000/42000 [==============================] - 28s 670us/step - loss: 14.5094 - acc: 0.0998\n",
            "Epoch 64/100\n",
            "42000/42000 [==============================] - 28s 671us/step - loss: 14.5094 - acc: 0.0998\n",
            "Epoch 65/100\n",
            "42000/42000 [==============================] - 28s 674us/step - loss: 14.5094 - acc: 0.0998\n",
            "Epoch 66/100\n",
            "42000/42000 [==============================] - 28s 676us/step - loss: 14.5094 - acc: 0.0998\n",
            "Epoch 67/100\n",
            "42000/42000 [==============================] - 28s 673us/step - loss: 14.5094 - acc: 0.0998\n",
            "Epoch 68/100\n",
            "42000/42000 [==============================] - 28s 678us/step - loss: 14.5094 - acc: 0.0998\n",
            "Epoch 69/100\n",
            "42000/42000 [==============================] - 28s 669us/step - loss: 14.5094 - acc: 0.0998\n",
            "Epoch 70/100\n",
            "42000/42000 [==============================] - 28s 671us/step - loss: 14.5094 - acc: 0.0998\n",
            "Epoch 71/100\n",
            "42000/42000 [==============================] - 28s 675us/step - loss: 14.5094 - acc: 0.0998\n",
            "Epoch 72/100\n",
            "42000/42000 [==============================] - 28s 675us/step - loss: 14.5094 - acc: 0.0998\n",
            "Epoch 73/100\n",
            "42000/42000 [==============================] - 28s 677us/step - loss: 14.5094 - acc: 0.0998\n",
            "Epoch 74/100\n",
            "42000/42000 [==============================] - 29s 680us/step - loss: 14.5094 - acc: 0.0998\n",
            "Epoch 75/100\n",
            "42000/42000 [==============================] - 29s 681us/step - loss: 14.5094 - acc: 0.0998\n",
            "Epoch 76/100\n",
            "42000/42000 [==============================] - 29s 684us/step - loss: 14.5094 - acc: 0.0998\n",
            "Epoch 77/100\n",
            "42000/42000 [==============================] - 28s 677us/step - loss: 14.5094 - acc: 0.0998\n",
            "Epoch 78/100\n",
            "42000/42000 [==============================] - 29s 686us/step - loss: 14.5094 - acc: 0.0998\n",
            "Epoch 79/100\n",
            "42000/42000 [==============================] - 29s 683us/step - loss: 14.5094 - acc: 0.0998\n",
            "Epoch 80/100\n",
            "42000/42000 [==============================] - 29s 686us/step - loss: 14.5094 - acc: 0.0998\n",
            "Epoch 81/100\n",
            "42000/42000 [==============================] - 29s 680us/step - loss: 14.5094 - acc: 0.0998\n",
            "Epoch 82/100\n",
            "42000/42000 [==============================] - 29s 683us/step - loss: 14.5094 - acc: 0.0998\n",
            "Epoch 83/100\n",
            "42000/42000 [==============================] - 28s 676us/step - loss: 14.5094 - acc: 0.0998\n",
            "Epoch 84/100\n",
            "42000/42000 [==============================] - 28s 678us/step - loss: 14.5094 - acc: 0.0998\n",
            "Epoch 85/100\n",
            "42000/42000 [==============================] - 29s 679us/step - loss: 14.5094 - acc: 0.0998\n",
            "Epoch 86/100\n",
            "42000/42000 [==============================] - 28s 676us/step - loss: 14.5094 - acc: 0.0998\n",
            "Epoch 87/100\n",
            "42000/42000 [==============================] - 29s 685us/step - loss: 14.5094 - acc: 0.0998\n",
            "Epoch 88/100\n",
            "42000/42000 [==============================] - 28s 675us/step - loss: 14.5094 - acc: 0.0998\n",
            "Epoch 89/100\n",
            "42000/42000 [==============================] - 29s 683us/step - loss: 14.5094 - acc: 0.0998\n",
            "Epoch 90/100\n",
            "42000/42000 [==============================] - 28s 676us/step - loss: 14.5094 - acc: 0.0998\n",
            "Epoch 91/100\n",
            "42000/42000 [==============================] - 28s 671us/step - loss: 14.5094 - acc: 0.0998\n",
            "Epoch 92/100\n",
            "42000/42000 [==============================] - 28s 677us/step - loss: 14.5094 - acc: 0.0998\n",
            "Epoch 93/100\n",
            "42000/42000 [==============================] - 28s 669us/step - loss: 14.5094 - acc: 0.0998\n",
            "Epoch 94/100\n",
            "42000/42000 [==============================] - 28s 667us/step - loss: 14.5094 - acc: 0.0998\n",
            "Epoch 95/100\n",
            "42000/42000 [==============================] - 28s 672us/step - loss: 14.5094 - acc: 0.0998\n",
            "Epoch 96/100\n",
            "42000/42000 [==============================] - 28s 674us/step - loss: 14.5094 - acc: 0.0998\n",
            "Epoch 97/100\n",
            "42000/42000 [==============================] - 28s 674us/step - loss: 14.5094 - acc: 0.0998\n",
            "Epoch 98/100\n",
            "42000/42000 [==============================] - 29s 683us/step - loss: 14.5094 - acc: 0.0998\n",
            "Epoch 99/100\n",
            "42000/42000 [==============================] - 28s 674us/step - loss: 14.5094 - acc: 0.0998\n",
            "Epoch 100/100\n",
            "42000/42000 [==============================] - 28s 678us/step - loss: 14.5094 - acc: 0.0998\n"
          ],
          "name": "stdout"
        }
      ]
    },
    {
      "cell_type": "code",
      "metadata": {
        "id": "mtlSWDDxkNfV",
        "colab_type": "code",
        "outputId": "d30497de-ae26-407b-eda6-b542b5e48295",
        "colab": {
          "base_uri": "https://localhost:8080/",
          "height": 34
        }
      },
      "source": [
        "results = model1.evaluate(X_test, y_test)"
      ],
      "execution_count": 82,
      "outputs": [
        {
          "output_type": "stream",
          "text": [
            "18000/18000 [==============================] - 7s 406us/step\n"
          ],
          "name": "stdout"
        }
      ]
    },
    {
      "cell_type": "code",
      "metadata": {
        "id": "9fST9wYSkiab",
        "colab_type": "code",
        "outputId": "02018c00-e507-477e-936c-f82bff847e92",
        "colab": {
          "base_uri": "https://localhost:8080/",
          "height": 34
        }
      },
      "source": [
        "print('Test accuracy: ', results[1])"
      ],
      "execution_count": 83,
      "outputs": [
        {
          "output_type": "stream",
          "text": [
            "Test accuracy:  0.10044444444444445\n"
          ],
          "name": "stdout"
        }
      ]
    },
    {
      "cell_type": "code",
      "metadata": {
        "id": "-Vm0RYk2-_H0",
        "colab_type": "code",
        "colab": {
          "base_uri": "https://localhost:8080/",
          "height": 50
        },
        "outputId": "f571c737-4705-46bb-aa01-f26c849488be"
      },
      "source": [
        "model1 = Sequential()\n",
        "model1.add(Dense(1024, input_shape = (1024, )))\n",
        "model1.add(Activation('relu'))\n",
        "model1.add(Dense(1024))\n",
        "model1.add(Activation('relu'))\n",
        "model1.add(Dense(1024))\n",
        "model1.add(Activation('relu'))\n",
        "model1.add(Dense(1024))\n",
        "model1.add(Activation('relu'))\n",
        "model1.add(Dense(10))\n",
        "model1.add(Activation('softmax'))\n",
        "adem = optimizers.Adam(lr = 0.001)\n",
        "model1.compile(optimizer = adem, loss = 'categorical_crossentropy', metrics = ['accuracy'])\n",
        "results = model1.evaluate(X_test, y_test)\n",
        "print('Test accuracy: ', results[1])"
      ],
      "execution_count": 84,
      "outputs": [
        {
          "output_type": "stream",
          "text": [
            "18000/18000 [==============================] - 7s 394us/step\n",
            "Test accuracy:  0.09972222222222223\n"
          ],
          "name": "stdout"
        }
      ]
    },
    {
      "cell_type": "code",
      "metadata": {
        "id": "QdF8zK2Zkp6t",
        "colab_type": "code",
        "colab": {
          "base_uri": "https://localhost:8080/",
          "height": 1000
        },
        "outputId": "fc954b3a-63f8-49e2-d4b3-e938cf435c66"
      },
      "source": [
        "\n",
        "def mlp_model():\n",
        "    model2 = Sequential()\n",
        "    \n",
        "    model2.add(Dense(50, input_shape = (1024, ), kernel_initializer='he_normal'))     # use he_normal initializer\n",
        "    model2.add(Activation('sigmoid'))    \n",
        "    model2.add(Dense(50, kernel_initializer='he_normal'))                            # use he_normal initializer\n",
        "    model2.add(Activation('sigmoid'))    \n",
        "    model2.add(Dense(50, kernel_initializer='he_normal'))                            # use he_normal initializer\n",
        "    model2.add(Activation('sigmoid'))    \n",
        "    model2.add(Dense(50, kernel_initializer='he_normal'))                            # use he_normal initializer\n",
        "    model2.add(Activation('sigmoid'))    \n",
        "    model2.add(Dense(10, kernel_initializer='he_normal'))                            # use he_normal initializer\n",
        "    model2.add(Activation('softmax'))\n",
        "    \n",
        "    sgd = optimizers.SGD(lr = 0.001)\n",
        "    model2.compile(optimizer = sgd, loss = 'categorical_crossentropy', metrics = ['accuracy'])\n",
        "    \n",
        "    return model2\n",
        "  \n",
        "model3 = mlp_model()\n",
        "history = model3.fit(X_train, y_train, batch_size=200, epochs = 100, verbose = 1)"
      ],
      "execution_count": 64,
      "outputs": [
        {
          "output_type": "stream",
          "text": [
            "WARNING:tensorflow:From /usr/local/lib/python3.6/dist-packages/keras/backend/tensorflow_backend.py:4479: The name tf.truncated_normal is deprecated. Please use tf.random.truncated_normal instead.\n",
            "\n",
            "Epoch 1/100\n",
            "42000/42000 [==============================] - 1s 31us/step - loss: 2.4725 - acc: 0.0999\n",
            "Epoch 2/100\n",
            "42000/42000 [==============================] - 1s 25us/step - loss: 2.4126 - acc: 0.0999\n",
            "Epoch 3/100\n",
            "42000/42000 [==============================] - 1s 25us/step - loss: 2.3715 - acc: 0.1002\n",
            "Epoch 4/100\n",
            "42000/42000 [==============================] - 1s 22us/step - loss: 2.3440 - acc: 0.1012\n",
            "Epoch 5/100\n",
            "42000/42000 [==============================] - 1s 22us/step - loss: 2.3264 - acc: 0.1032\n",
            "Epoch 6/100\n",
            "42000/42000 [==============================] - 1s 22us/step - loss: 2.3157 - acc: 0.1068\n",
            "Epoch 7/100\n",
            "42000/42000 [==============================] - 1s 23us/step - loss: 2.3095 - acc: 0.1081\n",
            "Epoch 8/100\n",
            "42000/42000 [==============================] - 1s 24us/step - loss: 2.3060 - acc: 0.1091\n",
            "Epoch 9/100\n",
            "42000/42000 [==============================] - 1s 26us/step - loss: 2.3042 - acc: 0.1104\n",
            "Epoch 10/100\n",
            "42000/42000 [==============================] - 1s 25us/step - loss: 2.3033 - acc: 0.1089\n",
            "Epoch 11/100\n",
            "42000/42000 [==============================] - 1s 25us/step - loss: 2.3028 - acc: 0.1063\n",
            "Epoch 12/100\n",
            "42000/42000 [==============================] - 1s 26us/step - loss: 2.3025 - acc: 0.1068\n",
            "Epoch 13/100\n",
            "42000/42000 [==============================] - 1s 25us/step - loss: 2.3024 - acc: 0.1039\n",
            "Epoch 14/100\n",
            "42000/42000 [==============================] - 1s 22us/step - loss: 2.3023 - acc: 0.1042\n",
            "Epoch 15/100\n",
            "42000/42000 [==============================] - 1s 21us/step - loss: 2.3023 - acc: 0.1035\n",
            "Epoch 16/100\n",
            "42000/42000 [==============================] - 1s 22us/step - loss: 2.3023 - acc: 0.1030\n",
            "Epoch 17/100\n",
            "42000/42000 [==============================] - 1s 23us/step - loss: 2.3023 - acc: 0.1036\n",
            "Epoch 18/100\n",
            "42000/42000 [==============================] - 1s 22us/step - loss: 2.3022 - acc: 0.1028\n",
            "Epoch 19/100\n",
            "42000/42000 [==============================] - 1s 22us/step - loss: 2.3022 - acc: 0.1044\n",
            "Epoch 20/100\n",
            "42000/42000 [==============================] - 1s 22us/step - loss: 2.3022 - acc: 0.1035\n",
            "Epoch 21/100\n",
            "42000/42000 [==============================] - 1s 22us/step - loss: 2.3022 - acc: 0.1025\n",
            "Epoch 22/100\n",
            "42000/42000 [==============================] - 1s 23us/step - loss: 2.3022 - acc: 0.1025\n",
            "Epoch 23/100\n",
            "42000/42000 [==============================] - 1s 24us/step - loss: 2.3022 - acc: 0.1036\n",
            "Epoch 24/100\n",
            "42000/42000 [==============================] - 1s 25us/step - loss: 2.3022 - acc: 0.1043\n",
            "Epoch 25/100\n",
            "42000/42000 [==============================] - 1s 22us/step - loss: 2.3022 - acc: 0.1015\n",
            "Epoch 26/100\n",
            "42000/42000 [==============================] - 1s 23us/step - loss: 2.3022 - acc: 0.1039\n",
            "Epoch 27/100\n",
            "42000/42000 [==============================] - 1s 21us/step - loss: 2.3022 - acc: 0.1045\n",
            "Epoch 28/100\n",
            "42000/42000 [==============================] - 1s 21us/step - loss: 2.3022 - acc: 0.1024\n",
            "Epoch 29/100\n",
            "42000/42000 [==============================] - 1s 21us/step - loss: 2.3022 - acc: 0.1043\n",
            "Epoch 30/100\n",
            "42000/42000 [==============================] - 1s 24us/step - loss: 2.3021 - acc: 0.1053\n",
            "Epoch 31/100\n",
            "42000/42000 [==============================] - 1s 23us/step - loss: 2.3021 - acc: 0.1022\n",
            "Epoch 32/100\n",
            "42000/42000 [==============================] - 1s 22us/step - loss: 2.3021 - acc: 0.1036\n",
            "Epoch 33/100\n",
            "42000/42000 [==============================] - 1s 25us/step - loss: 2.3021 - acc: 0.1049\n",
            "Epoch 34/100\n",
            "42000/42000 [==============================] - 1s 25us/step - loss: 2.3021 - acc: 0.1042\n",
            "Epoch 35/100\n",
            "42000/42000 [==============================] - 1s 24us/step - loss: 2.3021 - acc: 0.1021\n",
            "Epoch 36/100\n",
            "42000/42000 [==============================] - 1s 23us/step - loss: 2.3021 - acc: 0.1039\n",
            "Epoch 37/100\n",
            "42000/42000 [==============================] - 1s 22us/step - loss: 2.3021 - acc: 0.1043\n",
            "Epoch 38/100\n",
            "42000/42000 [==============================] - 1s 24us/step - loss: 2.3021 - acc: 0.1050\n",
            "Epoch 39/100\n",
            "42000/42000 [==============================] - 1s 23us/step - loss: 2.3021 - acc: 0.1038\n",
            "Epoch 40/100\n",
            "42000/42000 [==============================] - 1s 22us/step - loss: 2.3021 - acc: 0.1053\n",
            "Epoch 41/100\n",
            "42000/42000 [==============================] - 1s 22us/step - loss: 2.3021 - acc: 0.1027\n",
            "Epoch 42/100\n",
            "42000/42000 [==============================] - 1s 23us/step - loss: 2.3021 - acc: 0.1045\n",
            "Epoch 43/100\n",
            "42000/42000 [==============================] - 1s 24us/step - loss: 2.3021 - acc: 0.1042\n",
            "Epoch 44/100\n",
            "42000/42000 [==============================] - 1s 26us/step - loss: 2.3021 - acc: 0.1037\n",
            "Epoch 45/100\n",
            "42000/42000 [==============================] - 1s 23us/step - loss: 2.3020 - acc: 0.1052\n",
            "Epoch 46/100\n",
            "42000/42000 [==============================] - 1s 23us/step - loss: 2.3020 - acc: 0.1041\n",
            "Epoch 47/100\n",
            "42000/42000 [==============================] - 1s 25us/step - loss: 2.3020 - acc: 0.1047\n",
            "Epoch 48/100\n",
            "42000/42000 [==============================] - 1s 26us/step - loss: 2.3020 - acc: 0.1042\n",
            "Epoch 49/100\n",
            "42000/42000 [==============================] - 1s 26us/step - loss: 2.3020 - acc: 0.1072\n",
            "Epoch 50/100\n",
            "42000/42000 [==============================] - 1s 24us/step - loss: 2.3020 - acc: 0.1049\n",
            "Epoch 51/100\n",
            "42000/42000 [==============================] - 1s 26us/step - loss: 2.3020 - acc: 0.1053\n",
            "Epoch 52/100\n",
            "42000/42000 [==============================] - 1s 25us/step - loss: 2.3020 - acc: 0.1035\n",
            "Epoch 53/100\n",
            "42000/42000 [==============================] - 1s 23us/step - loss: 2.3020 - acc: 0.1050\n",
            "Epoch 54/100\n",
            "42000/42000 [==============================] - 1s 22us/step - loss: 2.3020 - acc: 0.1047\n",
            "Epoch 55/100\n",
            "42000/42000 [==============================] - 1s 25us/step - loss: 2.3020 - acc: 0.1048\n",
            "Epoch 56/100\n",
            "42000/42000 [==============================] - 1s 25us/step - loss: 2.3020 - acc: 0.1051\n",
            "Epoch 57/100\n",
            "42000/42000 [==============================] - 1s 24us/step - loss: 2.3020 - acc: 0.1039\n",
            "Epoch 58/100\n",
            "42000/42000 [==============================] - 1s 22us/step - loss: 2.3020 - acc: 0.1046\n",
            "Epoch 59/100\n",
            "42000/42000 [==============================] - 1s 25us/step - loss: 2.3020 - acc: 0.1041\n",
            "Epoch 60/100\n",
            "42000/42000 [==============================] - 1s 25us/step - loss: 2.3020 - acc: 0.1043\n",
            "Epoch 61/100\n",
            "42000/42000 [==============================] - 1s 25us/step - loss: 2.3020 - acc: 0.1046\n",
            "Epoch 62/100\n",
            "42000/42000 [==============================] - 1s 22us/step - loss: 2.3019 - acc: 0.1051\n",
            "Epoch 63/100\n",
            "42000/42000 [==============================] - 1s 22us/step - loss: 2.3019 - acc: 0.1063\n",
            "Epoch 64/100\n",
            "42000/42000 [==============================] - 1s 22us/step - loss: 2.3019 - acc: 0.1062\n",
            "Epoch 65/100\n",
            "42000/42000 [==============================] - 1s 24us/step - loss: 2.3019 - acc: 0.1049\n",
            "Epoch 66/100\n",
            "42000/42000 [==============================] - 1s 22us/step - loss: 2.3019 - acc: 0.1051\n",
            "Epoch 67/100\n",
            "42000/42000 [==============================] - 1s 26us/step - loss: 2.3019 - acc: 0.1036\n",
            "Epoch 68/100\n",
            "42000/42000 [==============================] - 1s 26us/step - loss: 2.3019 - acc: 0.1050\n",
            "Epoch 69/100\n",
            "42000/42000 [==============================] - 1s 23us/step - loss: 2.3019 - acc: 0.1046\n",
            "Epoch 70/100\n",
            "42000/42000 [==============================] - 1s 24us/step - loss: 2.3019 - acc: 0.1040\n",
            "Epoch 71/100\n",
            "42000/42000 [==============================] - 1s 22us/step - loss: 2.3019 - acc: 0.1055\n",
            "Epoch 72/100\n",
            "42000/42000 [==============================] - 1s 22us/step - loss: 2.3019 - acc: 0.1032\n",
            "Epoch 73/100\n",
            "42000/42000 [==============================] - 1s 24us/step - loss: 2.3019 - acc: 0.1075\n",
            "Epoch 74/100\n",
            "42000/42000 [==============================] - 1s 24us/step - loss: 2.3019 - acc: 0.1055\n",
            "Epoch 75/100\n",
            "42000/42000 [==============================] - 1s 23us/step - loss: 2.3019 - acc: 0.1064\n",
            "Epoch 76/100\n",
            "42000/42000 [==============================] - 1s 22us/step - loss: 2.3019 - acc: 0.1071\n",
            "Epoch 77/100\n",
            "42000/42000 [==============================] - 1s 22us/step - loss: 2.3019 - acc: 0.1038\n",
            "Epoch 78/100\n",
            "42000/42000 [==============================] - 1s 24us/step - loss: 2.3018 - acc: 0.1064\n",
            "Epoch 79/100\n",
            "42000/42000 [==============================] - 1s 23us/step - loss: 2.3018 - acc: 0.1063\n",
            "Epoch 80/100\n",
            "42000/42000 [==============================] - 1s 22us/step - loss: 2.3018 - acc: 0.1045\n",
            "Epoch 81/100\n",
            "42000/42000 [==============================] - 1s 22us/step - loss: 2.3018 - acc: 0.1070\n",
            "Epoch 82/100\n",
            "42000/42000 [==============================] - 1s 22us/step - loss: 2.3018 - acc: 0.1061\n",
            "Epoch 83/100\n",
            "42000/42000 [==============================] - 1s 23us/step - loss: 2.3018 - acc: 0.1062\n",
            "Epoch 84/100\n",
            "42000/42000 [==============================] - 1s 23us/step - loss: 2.3018 - acc: 0.1064\n",
            "Epoch 85/100\n",
            "42000/42000 [==============================] - 1s 24us/step - loss: 2.3018 - acc: 0.1065\n",
            "Epoch 86/100\n",
            "42000/42000 [==============================] - 1s 25us/step - loss: 2.3018 - acc: 0.1055\n",
            "Epoch 87/100\n",
            "42000/42000 [==============================] - 1s 23us/step - loss: 2.3018 - acc: 0.1056\n",
            "Epoch 88/100\n",
            "42000/42000 [==============================] - 1s 26us/step - loss: 2.3018 - acc: 0.1061\n",
            "Epoch 89/100\n",
            "42000/42000 [==============================] - 1s 26us/step - loss: 2.3018 - acc: 0.1071\n",
            "Epoch 90/100\n",
            "42000/42000 [==============================] - 1s 25us/step - loss: 2.3018 - acc: 0.1070\n",
            "Epoch 91/100\n",
            "42000/42000 [==============================] - 1s 24us/step - loss: 2.3018 - acc: 0.1062\n",
            "Epoch 92/100\n",
            "42000/42000 [==============================] - 1s 26us/step - loss: 2.3018 - acc: 0.1054\n",
            "Epoch 93/100\n",
            "42000/42000 [==============================] - 1s 25us/step - loss: 2.3018 - acc: 0.1063\n",
            "Epoch 94/100\n",
            "42000/42000 [==============================] - 1s 23us/step - loss: 2.3017 - acc: 0.1045\n",
            "Epoch 95/100\n",
            "42000/42000 [==============================] - 1s 23us/step - loss: 2.3017 - acc: 0.1059\n",
            "Epoch 96/100\n",
            "42000/42000 [==============================] - 1s 24us/step - loss: 2.3017 - acc: 0.1070\n",
            "Epoch 97/100\n",
            "42000/42000 [==============================] - 1s 24us/step - loss: 2.3017 - acc: 0.1062\n",
            "Epoch 98/100\n",
            "42000/42000 [==============================] - 1s 22us/step - loss: 2.3017 - acc: 0.1060\n",
            "Epoch 99/100\n",
            "42000/42000 [==============================] - 1s 25us/step - loss: 2.3017 - acc: 0.1077\n",
            "Epoch 100/100\n",
            "42000/42000 [==============================] - 1s 27us/step - loss: 2.3017 - acc: 0.1062\n"
          ],
          "name": "stdout"
        }
      ]
    },
    {
      "cell_type": "code",
      "metadata": {
        "id": "nW66Yj562wjm",
        "colab_type": "code",
        "colab": {
          "base_uri": "https://localhost:8080/",
          "height": 34
        },
        "outputId": "32ecd146-4669-4933-d593-8d2ed9073d65"
      },
      "source": [
        "results3 = model3.evaluate(X_test, y_test)"
      ],
      "execution_count": 65,
      "outputs": [
        {
          "output_type": "stream",
          "text": [
            "18000/18000 [==============================] - 1s 33us/step\n"
          ],
          "name": "stdout"
        }
      ]
    },
    {
      "cell_type": "code",
      "metadata": {
        "id": "smzoVIlg3W9c",
        "colab_type": "code",
        "colab": {
          "base_uri": "https://localhost:8080/",
          "height": 34
        },
        "outputId": "8cd0d8e4-8804-4f04-e0bb-5a2120e6dce0"
      },
      "source": [
        "print('Test accuracy: ', results3[1])"
      ],
      "execution_count": 66,
      "outputs": [
        {
          "output_type": "stream",
          "text": [
            "Test accuracy:  0.09816666666666667\n"
          ],
          "name": "stdout"
        }
      ]
    },
    {
      "cell_type": "code",
      "metadata": {
        "id": "b2THwqLn3alt",
        "colab_type": "code",
        "colab": {}
      },
      "source": [
        "from keras.layers import BatchNormalization"
      ],
      "execution_count": 0,
      "outputs": []
    },
    {
      "cell_type": "code",
      "metadata": {
        "id": "9QmaHcEi3lwg",
        "colab_type": "code",
        "colab": {}
      },
      "source": [
        "def mlp_model():\n",
        "    model = Sequential()\n",
        "    \n",
        "    model.add(Dense(128, input_shape = (1024, )))\n",
        "    model.add(BatchNormalization())                    \n",
        "    model.add(Activation('relu'))    \n",
        "    model.add(Dense(128))\n",
        "    model.add(BatchNormalization())                    \n",
        "    model.add(Activation('relu'))    \n",
        "    model.add(Dense(128))\n",
        "    model.add(BatchNormalization())                    \n",
        "    model.add(Activation('relu'))    \n",
        "    model.add(Dense(128))\n",
        "    model.add(BatchNormalization())                    \n",
        "    model.add(Activation('relu'))    \n",
        "    model.add(Dense(10))\n",
        "    model.add(Activation('softmax'))\n",
        "    \n",
        "    sgd = optimizers.SGD(lr = 0.001)\n",
        "    model.compile(optimizer = sgd, loss = 'categorical_crossentropy', metrics = ['accuracy'])\n",
        "    \n",
        "    return model"
      ],
      "execution_count": 0,
      "outputs": []
    },
    {
      "cell_type": "code",
      "metadata": {
        "id": "NAUCrtHA3rUR",
        "colab_type": "code",
        "colab": {
          "base_uri": "https://localhost:8080/",
          "height": 1000
        },
        "outputId": "bc9b7b09-f5a8-44e1-d7d2-75d296555066"
      },
      "source": [
        "model = mlp_model()\n",
        "history = model.fit(X_train, y_train, epochs = 100, verbose = 1)"
      ],
      "execution_count": 71,
      "outputs": [
        {
          "output_type": "stream",
          "text": [
            "Epoch 1/100\n",
            "42000/42000 [==============================] - 8s 182us/step - loss: 2.3193 - acc: 0.1765\n",
            "Epoch 2/100\n",
            "42000/42000 [==============================] - 6s 136us/step - loss: 1.9733 - acc: 0.3167\n",
            "Epoch 3/100\n",
            "42000/42000 [==============================] - 6s 133us/step - loss: 1.7285 - acc: 0.4269\n",
            "Epoch 4/100\n",
            "42000/42000 [==============================] - 6s 132us/step - loss: 1.5577 - acc: 0.4927\n",
            "Epoch 5/100\n",
            "42000/42000 [==============================] - 6s 138us/step - loss: 1.4258 - acc: 0.5436\n",
            "Epoch 6/100\n",
            "42000/42000 [==============================] - 6s 135us/step - loss: 1.3322 - acc: 0.5761\n",
            "Epoch 7/100\n",
            "42000/42000 [==============================] - 6s 138us/step - loss: 1.2569 - acc: 0.6027\n",
            "Epoch 8/100\n",
            "42000/42000 [==============================] - 6s 137us/step - loss: 1.2013 - acc: 0.6207\n",
            "Epoch 9/100\n",
            "42000/42000 [==============================] - 6s 140us/step - loss: 1.1464 - acc: 0.6388\n",
            "Epoch 10/100\n",
            "42000/42000 [==============================] - 6s 139us/step - loss: 1.0990 - acc: 0.6542\n",
            "Epoch 11/100\n",
            "42000/42000 [==============================] - 6s 136us/step - loss: 1.0675 - acc: 0.6634\n",
            "Epoch 12/100\n",
            "42000/42000 [==============================] - 6s 138us/step - loss: 1.0333 - acc: 0.6737\n",
            "Epoch 13/100\n",
            "42000/42000 [==============================] - 6s 138us/step - loss: 1.0074 - acc: 0.6814\n",
            "Epoch 14/100\n",
            "42000/42000 [==============================] - 6s 137us/step - loss: 0.9842 - acc: 0.6899\n",
            "Epoch 15/100\n",
            "42000/42000 [==============================] - 6s 139us/step - loss: 0.9574 - acc: 0.6970\n",
            "Epoch 16/100\n",
            "42000/42000 [==============================] - 6s 139us/step - loss: 0.9313 - acc: 0.7054\n",
            "Epoch 17/100\n",
            "42000/42000 [==============================] - 6s 136us/step - loss: 0.9149 - acc: 0.7106\n",
            "Epoch 18/100\n",
            "42000/42000 [==============================] - 6s 138us/step - loss: 0.8930 - acc: 0.7188\n",
            "Epoch 19/100\n",
            "42000/42000 [==============================] - 6s 138us/step - loss: 0.8772 - acc: 0.7219\n",
            "Epoch 20/100\n",
            "42000/42000 [==============================] - 6s 138us/step - loss: 0.8618 - acc: 0.7284\n",
            "Epoch 21/100\n",
            "42000/42000 [==============================] - 6s 137us/step - loss: 0.8443 - acc: 0.7338\n",
            "Epoch 22/100\n",
            "42000/42000 [==============================] - 6s 141us/step - loss: 0.8342 - acc: 0.7359\n",
            "Epoch 23/100\n",
            "42000/42000 [==============================] - 6s 137us/step - loss: 0.8166 - acc: 0.7437\n",
            "Epoch 24/100\n",
            "42000/42000 [==============================] - 6s 138us/step - loss: 0.8105 - acc: 0.7429\n",
            "Epoch 25/100\n",
            "42000/42000 [==============================] - 6s 138us/step - loss: 0.7912 - acc: 0.7495\n",
            "Epoch 26/100\n",
            "42000/42000 [==============================] - 6s 137us/step - loss: 0.7797 - acc: 0.7536\n",
            "Epoch 27/100\n",
            "42000/42000 [==============================] - 6s 137us/step - loss: 0.7782 - acc: 0.7548\n",
            "Epoch 28/100\n",
            "42000/42000 [==============================] - 6s 136us/step - loss: 0.7672 - acc: 0.7554\n",
            "Epoch 29/100\n",
            "42000/42000 [==============================] - 6s 140us/step - loss: 0.7590 - acc: 0.7584\n",
            "Epoch 30/100\n",
            "42000/42000 [==============================] - 6s 135us/step - loss: 0.7450 - acc: 0.7635\n",
            "Epoch 31/100\n",
            "42000/42000 [==============================] - 6s 137us/step - loss: 0.7407 - acc: 0.7643\n",
            "Epoch 32/100\n",
            "42000/42000 [==============================] - 6s 136us/step - loss: 0.7338 - acc: 0.7669\n",
            "Epoch 33/100\n",
            "42000/42000 [==============================] - 6s 139us/step - loss: 0.7202 - acc: 0.7714\n",
            "Epoch 34/100\n",
            "42000/42000 [==============================] - 6s 148us/step - loss: 0.7109 - acc: 0.7759\n",
            "Epoch 35/100\n",
            "42000/42000 [==============================] - 6s 142us/step - loss: 0.7076 - acc: 0.7743\n",
            "Epoch 36/100\n",
            "42000/42000 [==============================] - 6s 141us/step - loss: 0.6918 - acc: 0.7806\n",
            "Epoch 37/100\n",
            "42000/42000 [==============================] - 6s 138us/step - loss: 0.6955 - acc: 0.7794\n",
            "Epoch 38/100\n",
            "42000/42000 [==============================] - 6s 136us/step - loss: 0.6912 - acc: 0.7795\n",
            "Epoch 39/100\n",
            "42000/42000 [==============================] - 6s 135us/step - loss: 0.6855 - acc: 0.7817\n",
            "Epoch 40/100\n",
            "42000/42000 [==============================] - 6s 137us/step - loss: 0.6791 - acc: 0.7839\n",
            "Epoch 41/100\n",
            "42000/42000 [==============================] - 6s 137us/step - loss: 0.6709 - acc: 0.7888\n",
            "Epoch 42/100\n",
            "42000/42000 [==============================] - 6s 135us/step - loss: 0.6704 - acc: 0.7879\n",
            "Epoch 43/100\n",
            "42000/42000 [==============================] - 6s 135us/step - loss: 0.6602 - acc: 0.7898\n",
            "Epoch 44/100\n",
            "42000/42000 [==============================] - 6s 137us/step - loss: 0.6433 - acc: 0.7972\n",
            "Epoch 45/100\n",
            "42000/42000 [==============================] - 6s 134us/step - loss: 0.6451 - acc: 0.7933\n",
            "Epoch 46/100\n",
            "42000/42000 [==============================] - 6s 137us/step - loss: 0.6413 - acc: 0.7953\n",
            "Epoch 47/100\n",
            "42000/42000 [==============================] - 6s 135us/step - loss: 0.6370 - acc: 0.7957\n",
            "Epoch 48/100\n",
            "42000/42000 [==============================] - 6s 135us/step - loss: 0.6301 - acc: 0.7972\n",
            "Epoch 49/100\n",
            "42000/42000 [==============================] - 6s 135us/step - loss: 0.6253 - acc: 0.8019\n",
            "Epoch 50/100\n",
            "42000/42000 [==============================] - 6s 137us/step - loss: 0.6187 - acc: 0.8019\n",
            "Epoch 51/100\n",
            "42000/42000 [==============================] - 6s 137us/step - loss: 0.6175 - acc: 0.8037\n",
            "Epoch 52/100\n",
            "42000/42000 [==============================] - 6s 135us/step - loss: 0.6125 - acc: 0.8054\n",
            "Epoch 53/100\n",
            "42000/42000 [==============================] - 6s 136us/step - loss: 0.6137 - acc: 0.8045\n",
            "Epoch 54/100\n",
            "42000/42000 [==============================] - 6s 146us/step - loss: 0.5978 - acc: 0.8098\n",
            "Epoch 55/100\n",
            "42000/42000 [==============================] - 6s 137us/step - loss: 0.6026 - acc: 0.8078\n",
            "Epoch 56/100\n",
            "42000/42000 [==============================] - 6s 135us/step - loss: 0.5978 - acc: 0.8097\n",
            "Epoch 57/100\n",
            "42000/42000 [==============================] - 6s 137us/step - loss: 0.5920 - acc: 0.8125\n",
            "Epoch 58/100\n",
            "42000/42000 [==============================] - 6s 134us/step - loss: 0.5900 - acc: 0.8115\n",
            "Epoch 59/100\n",
            "42000/42000 [==============================] - 6s 135us/step - loss: 0.5888 - acc: 0.8123\n",
            "Epoch 60/100\n",
            "42000/42000 [==============================] - 6s 133us/step - loss: 0.5831 - acc: 0.8144\n",
            "Epoch 61/100\n",
            "42000/42000 [==============================] - 6s 134us/step - loss: 0.5768 - acc: 0.8158\n",
            "Epoch 62/100\n",
            "42000/42000 [==============================] - 6s 138us/step - loss: 0.5735 - acc: 0.8163\n",
            "Epoch 63/100\n",
            "42000/42000 [==============================] - 6s 134us/step - loss: 0.5728 - acc: 0.8176\n",
            "Epoch 64/100\n",
            "42000/42000 [==============================] - 6s 136us/step - loss: 0.5665 - acc: 0.8189\n",
            "Epoch 65/100\n",
            "42000/42000 [==============================] - 6s 135us/step - loss: 0.5657 - acc: 0.8186\n",
            "Epoch 66/100\n",
            "42000/42000 [==============================] - 6s 133us/step - loss: 0.5628 - acc: 0.8211\n",
            "Epoch 67/100\n",
            "42000/42000 [==============================] - 6s 134us/step - loss: 0.5589 - acc: 0.8215\n",
            "Epoch 68/100\n",
            "42000/42000 [==============================] - 6s 132us/step - loss: 0.5621 - acc: 0.8203\n",
            "Epoch 69/100\n",
            "42000/42000 [==============================] - 6s 135us/step - loss: 0.5520 - acc: 0.8248\n",
            "Epoch 70/100\n",
            "42000/42000 [==============================] - 6s 134us/step - loss: 0.5517 - acc: 0.8237\n",
            "Epoch 71/100\n",
            "42000/42000 [==============================] - 6s 136us/step - loss: 0.5486 - acc: 0.8246\n",
            "Epoch 72/100\n",
            "42000/42000 [==============================] - 6s 137us/step - loss: 0.5424 - acc: 0.8279\n",
            "Epoch 73/100\n",
            "42000/42000 [==============================] - 6s 137us/step - loss: 0.5427 - acc: 0.8262\n",
            "Epoch 74/100\n",
            "42000/42000 [==============================] - 6s 135us/step - loss: 0.5351 - acc: 0.8280\n",
            "Epoch 75/100\n",
            "42000/42000 [==============================] - 6s 136us/step - loss: 0.5329 - acc: 0.8290\n",
            "Epoch 76/100\n",
            "42000/42000 [==============================] - 6s 142us/step - loss: 0.5306 - acc: 0.8311\n",
            "Epoch 77/100\n",
            "42000/42000 [==============================] - 6s 139us/step - loss: 0.5268 - acc: 0.8328\n",
            "Epoch 78/100\n",
            "42000/42000 [==============================] - 6s 138us/step - loss: 0.5285 - acc: 0.8308\n",
            "Epoch 79/100\n",
            "42000/42000 [==============================] - 6s 143us/step - loss: 0.5218 - acc: 0.8325\n",
            "Epoch 80/100\n",
            "42000/42000 [==============================] - 6s 140us/step - loss: 0.5225 - acc: 0.8340\n",
            "Epoch 81/100\n",
            "42000/42000 [==============================] - 6s 141us/step - loss: 0.5136 - acc: 0.8357\n",
            "Epoch 82/100\n",
            "42000/42000 [==============================] - 6s 139us/step - loss: 0.5188 - acc: 0.8328\n",
            "Epoch 83/100\n",
            "42000/42000 [==============================] - 6s 143us/step - loss: 0.5181 - acc: 0.8350\n",
            "Epoch 84/100\n",
            "42000/42000 [==============================] - 6s 137us/step - loss: 0.5120 - acc: 0.8367\n",
            "Epoch 85/100\n",
            "42000/42000 [==============================] - 6s 138us/step - loss: 0.5106 - acc: 0.8350\n",
            "Epoch 86/100\n",
            "42000/42000 [==============================] - 6s 139us/step - loss: 0.5109 - acc: 0.8366\n",
            "Epoch 87/100\n",
            "42000/42000 [==============================] - 6s 143us/step - loss: 0.5060 - acc: 0.8377\n",
            "Epoch 88/100\n",
            "42000/42000 [==============================] - 6s 150us/step - loss: 0.5051 - acc: 0.8380\n",
            "Epoch 89/100\n",
            "42000/42000 [==============================] - 6s 142us/step - loss: 0.5023 - acc: 0.8387\n",
            "Epoch 90/100\n",
            "42000/42000 [==============================] - 6s 140us/step - loss: 0.4927 - acc: 0.8423\n",
            "Epoch 91/100\n",
            "42000/42000 [==============================] - 6s 136us/step - loss: 0.4988 - acc: 0.8389\n",
            "Epoch 92/100\n",
            "42000/42000 [==============================] - 6s 139us/step - loss: 0.4920 - acc: 0.8426\n",
            "Epoch 93/100\n",
            "42000/42000 [==============================] - 6s 142us/step - loss: 0.4914 - acc: 0.8417\n",
            "Epoch 94/100\n",
            "42000/42000 [==============================] - 6s 139us/step - loss: 0.4911 - acc: 0.8426\n",
            "Epoch 95/100\n",
            "42000/42000 [==============================] - 6s 138us/step - loss: 0.4870 - acc: 0.8430\n",
            "Epoch 96/100\n",
            "42000/42000 [==============================] - 6s 138us/step - loss: 0.4831 - acc: 0.8447\n",
            "Epoch 97/100\n",
            "42000/42000 [==============================] - 6s 138us/step - loss: 0.4847 - acc: 0.8455\n",
            "Epoch 98/100\n",
            "42000/42000 [==============================] - 6s 138us/step - loss: 0.4791 - acc: 0.8459\n",
            "Epoch 99/100\n",
            "42000/42000 [==============================] - 6s 137us/step - loss: 0.4789 - acc: 0.8477\n",
            "Epoch 100/100\n",
            "42000/42000 [==============================] - 6s 140us/step - loss: 0.4760 - acc: 0.8487\n"
          ],
          "name": "stdout"
        }
      ]
    },
    {
      "cell_type": "code",
      "metadata": {
        "id": "DM_4Xx_03xbU",
        "colab_type": "code",
        "colab": {
          "base_uri": "https://localhost:8080/",
          "height": 34
        },
        "outputId": "4b5d3c3d-4f35-4143-8ccd-21e9851639e1"
      },
      "source": [
        "results = model.evaluate(X_test, y_test)"
      ],
      "execution_count": 72,
      "outputs": [
        {
          "output_type": "stream",
          "text": [
            "18000/18000 [==============================] - 1s 60us/step\n"
          ],
          "name": "stdout"
        }
      ]
    },
    {
      "cell_type": "code",
      "metadata": {
        "id": "bSGfYFgd6ViO",
        "colab_type": "code",
        "colab": {
          "base_uri": "https://localhost:8080/",
          "height": 34
        },
        "outputId": "c922f075-60b8-4924-b5b8-03b02ca71599"
      },
      "source": [
        "print('Test accuracy: ', results[1])"
      ],
      "execution_count": 73,
      "outputs": [
        {
          "output_type": "stream",
          "text": [
            "Test accuracy:  0.7968333333333333\n"
          ],
          "name": "stdout"
        }
      ]
    },
    {
      "cell_type": "code",
      "metadata": {
        "id": "LG9xoPJ46btr",
        "colab_type": "code",
        "colab": {}
      },
      "source": [
        ""
      ],
      "execution_count": 0,
      "outputs": []
    },
    {
      "cell_type": "markdown",
      "metadata": {
        "id": "MJgjolWV6d6b",
        "colab_type": "text"
      },
      "source": [
        "**Observation**\n",
        "\n",
        "  \n",
        "\n",
        "1.   K Neighbor is very costly in case of time taken in execution\n",
        "2.   K Neighbor accuracy is aprox 83.78 with kneighbour is equal to 1\n",
        "3.   Visulation is shown in other file . submitted 2 file for Kneighbour and nural network\n",
        "4.   in normal nural network without batch normalization accuracy is very low, \n",
        "5.   there is no difference with adm and sgd optimizer\n",
        "\n",
        "\n",
        "                            \n",
        "\n",
        "\n"
      ]
    },
    {
      "cell_type": "code",
      "metadata": {
        "id": "k11RwA1DLIgP",
        "colab_type": "code",
        "colab": {}
      },
      "source": [
        ""
      ],
      "execution_count": 0,
      "outputs": []
    }
  ]
}